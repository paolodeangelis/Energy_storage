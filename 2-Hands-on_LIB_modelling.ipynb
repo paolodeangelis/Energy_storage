{
  "cells": [
    {
      "cell_type": "markdown",
      "metadata": {
        "id": "X0ZoMNKdeXjB"
      },
      "source": [
        "# Hands-on Lithium Ion Battery (LIB) modelling"
      ]
    },
    {
      "cell_type": "markdown",
      "source": [
        "Installing libraries"
      ],
      "metadata": {
        "id": "iVBsH9B-ks8a"
      }
    },
    {
      "cell_type": "code",
      "execution_count": 2,
      "metadata": {
        "colab": {
          "base_uri": "https://localhost:8080/"
        },
        "id": "xc9gVAykeXjO",
        "outputId": "b5db5a99-f75b-41ba-9236-3b4db5bff0a9"
      },
      "outputs": [
        {
          "output_type": "stream",
          "name": "stdout",
          "text": [
            "Requirement already satisfied: numpy in /usr/local/lib/python3.7/dist-packages (1.21.6)\n",
            "Requirement already satisfied: scipy in /usr/local/lib/python3.7/dist-packages (1.4.1)\n",
            "Requirement already satisfied: numpy>=1.13.3 in /usr/local/lib/python3.7/dist-packages (from scipy) (1.21.6)\n",
            "Requirement already satisfied: matplotlib in /usr/local/lib/python3.7/dist-packages (3.2.2)\n",
            "Requirement already satisfied: pyparsing!=2.0.4,!=2.1.2,!=2.1.6,>=2.0.1 in /usr/local/lib/python3.7/dist-packages (from matplotlib) (3.0.8)\n",
            "Requirement already satisfied: python-dateutil>=2.1 in /usr/local/lib/python3.7/dist-packages (from matplotlib) (2.8.2)\n",
            "Requirement already satisfied: kiwisolver>=1.0.1 in /usr/local/lib/python3.7/dist-packages (from matplotlib) (1.4.2)\n",
            "Requirement already satisfied: cycler>=0.10 in /usr/local/lib/python3.7/dist-packages (from matplotlib) (0.11.0)\n",
            "Requirement already satisfied: numpy>=1.11 in /usr/local/lib/python3.7/dist-packages (from matplotlib) (1.21.6)\n",
            "Requirement already satisfied: typing-extensions in /usr/local/lib/python3.7/dist-packages (from kiwisolver>=1.0.1->matplotlib) (4.2.0)\n",
            "Requirement already satisfied: six>=1.5 in /usr/local/lib/python3.7/dist-packages (from python-dateutil>=2.1->matplotlib) (1.15.0)\n",
            "Requirement already satisfied: pybamm==21.12 in /usr/local/lib/python3.7/dist-packages (21.12)\n",
            "Requirement already satisfied: jupyter in /usr/local/lib/python3.7/dist-packages (from pybamm==21.12) (1.0.0)\n",
            "Requirement already satisfied: pybtex in /usr/local/lib/python3.7/dist-packages (from pybamm==21.12) (0.24.0)\n",
            "Requirement already satisfied: casadi>=3.5.0 in /usr/local/lib/python3.7/dist-packages (from pybamm==21.12) (3.5.5)\n",
            "Requirement already satisfied: sympy==1.9 in /usr/local/lib/python3.7/dist-packages (from pybamm==21.12) (1.9)\n",
            "Requirement already satisfied: numpy>=1.16 in /usr/local/lib/python3.7/dist-packages (from pybamm==21.12) (1.21.6)\n",
            "Requirement already satisfied: imageio>=2.9.0 in /usr/local/lib/python3.7/dist-packages (from pybamm==21.12) (2.19.0)\n",
            "Requirement already satisfied: autograd>=1.2 in /usr/local/lib/python3.7/dist-packages (from pybamm==21.12) (1.4)\n",
            "Requirement already satisfied: matplotlib>=2.0 in /usr/local/lib/python3.7/dist-packages (from pybamm==21.12) (3.2.2)\n",
            "Requirement already satisfied: pandas>=0.24 in /usr/local/lib/python3.7/dist-packages (from pybamm==21.12) (1.3.5)\n",
            "Requirement already satisfied: scipy>=1.3 in /usr/local/lib/python3.7/dist-packages (from pybamm==21.12) (1.4.1)\n",
            "Requirement already satisfied: scikit-fem>=0.2.0 in /usr/local/lib/python3.7/dist-packages (from pybamm==21.12) (6.0.0)\n",
            "Requirement already satisfied: anytree>=2.4.3 in /usr/local/lib/python3.7/dist-packages (from pybamm==21.12) (2.8.0)\n",
            "Requirement already satisfied: mpmath>=0.19 in /usr/local/lib/python3.7/dist-packages (from sympy==1.9->pybamm==21.12) (1.2.1)\n",
            "Requirement already satisfied: six>=1.9.0 in /usr/local/lib/python3.7/dist-packages (from anytree>=2.4.3->pybamm==21.12) (1.15.0)\n",
            "Requirement already satisfied: future>=0.15.2 in /usr/local/lib/python3.7/dist-packages (from autograd>=1.2->pybamm==21.12) (0.16.0)\n",
            "Requirement already satisfied: pillow>=8.3.2 in /usr/local/lib/python3.7/dist-packages (from imageio>=2.9.0->pybamm==21.12) (9.1.0)\n",
            "Requirement already satisfied: kiwisolver>=1.0.1 in /usr/local/lib/python3.7/dist-packages (from matplotlib>=2.0->pybamm==21.12) (1.4.2)\n",
            "Requirement already satisfied: python-dateutil>=2.1 in /usr/local/lib/python3.7/dist-packages (from matplotlib>=2.0->pybamm==21.12) (2.8.2)\n",
            "Requirement already satisfied: cycler>=0.10 in /usr/local/lib/python3.7/dist-packages (from matplotlib>=2.0->pybamm==21.12) (0.11.0)\n",
            "Requirement already satisfied: pyparsing!=2.0.4,!=2.1.2,!=2.1.6,>=2.0.1 in /usr/local/lib/python3.7/dist-packages (from matplotlib>=2.0->pybamm==21.12) (3.0.8)\n",
            "Requirement already satisfied: typing-extensions in /usr/local/lib/python3.7/dist-packages (from kiwisolver>=1.0.1->matplotlib>=2.0->pybamm==21.12) (4.2.0)\n",
            "Requirement already satisfied: pytz>=2017.3 in /usr/local/lib/python3.7/dist-packages (from pandas>=0.24->pybamm==21.12) (2022.1)\n",
            "Requirement already satisfied: qtconsole in /usr/local/lib/python3.7/dist-packages (from jupyter->pybamm==21.12) (5.3.0)\n",
            "Requirement already satisfied: jupyter-console in /usr/local/lib/python3.7/dist-packages (from jupyter->pybamm==21.12) (5.2.0)\n",
            "Requirement already satisfied: ipykernel in /usr/local/lib/python3.7/dist-packages (from jupyter->pybamm==21.12) (4.10.1)\n",
            "Requirement already satisfied: nbconvert in /usr/local/lib/python3.7/dist-packages (from jupyter->pybamm==21.12) (5.6.1)\n",
            "Requirement already satisfied: ipywidgets in /usr/local/lib/python3.7/dist-packages (from jupyter->pybamm==21.12) (7.7.0)\n",
            "Requirement already satisfied: notebook in /usr/local/lib/python3.7/dist-packages (from jupyter->pybamm==21.12) (5.3.1)\n",
            "Requirement already satisfied: ipython>=4.0.0 in /usr/local/lib/python3.7/dist-packages (from ipykernel->jupyter->pybamm==21.12) (5.5.0)\n",
            "Requirement already satisfied: traitlets>=4.1.0 in /usr/local/lib/python3.7/dist-packages (from ipykernel->jupyter->pybamm==21.12) (5.1.1)\n",
            "Requirement already satisfied: tornado>=4.0 in /usr/local/lib/python3.7/dist-packages (from ipykernel->jupyter->pybamm==21.12) (5.1.1)\n",
            "Requirement already satisfied: jupyter-client in /usr/local/lib/python3.7/dist-packages (from ipykernel->jupyter->pybamm==21.12) (5.3.5)\n",
            "Requirement already satisfied: simplegeneric>0.8 in /usr/local/lib/python3.7/dist-packages (from ipython>=4.0.0->ipykernel->jupyter->pybamm==21.12) (0.8.1)\n",
            "Requirement already satisfied: setuptools>=18.5 in /usr/local/lib/python3.7/dist-packages (from ipython>=4.0.0->ipykernel->jupyter->pybamm==21.12) (57.4.0)\n",
            "Requirement already satisfied: decorator in /usr/local/lib/python3.7/dist-packages (from ipython>=4.0.0->ipykernel->jupyter->pybamm==21.12) (4.4.2)\n",
            "Requirement already satisfied: pygments in /usr/local/lib/python3.7/dist-packages (from ipython>=4.0.0->ipykernel->jupyter->pybamm==21.12) (2.6.1)\n",
            "Requirement already satisfied: pexpect in /usr/local/lib/python3.7/dist-packages (from ipython>=4.0.0->ipykernel->jupyter->pybamm==21.12) (4.8.0)\n",
            "Requirement already satisfied: pickleshare in /usr/local/lib/python3.7/dist-packages (from ipython>=4.0.0->ipykernel->jupyter->pybamm==21.12) (0.7.5)\n",
            "Requirement already satisfied: prompt-toolkit<2.0.0,>=1.0.4 in /usr/local/lib/python3.7/dist-packages (from ipython>=4.0.0->ipykernel->jupyter->pybamm==21.12) (1.0.18)\n",
            "Requirement already satisfied: wcwidth in /usr/local/lib/python3.7/dist-packages (from prompt-toolkit<2.0.0,>=1.0.4->ipython>=4.0.0->ipykernel->jupyter->pybamm==21.12) (0.2.5)\n",
            "Requirement already satisfied: jupyterlab-widgets>=1.0.0 in /usr/local/lib/python3.7/dist-packages (from ipywidgets->jupyter->pybamm==21.12) (1.1.0)\n",
            "Requirement already satisfied: widgetsnbextension~=3.6.0 in /usr/local/lib/python3.7/dist-packages (from ipywidgets->jupyter->pybamm==21.12) (3.6.0)\n",
            "Requirement already satisfied: nbformat>=4.2.0 in /usr/local/lib/python3.7/dist-packages (from ipywidgets->jupyter->pybamm==21.12) (5.3.0)\n",
            "Requirement already satisfied: ipython-genutils~=0.2.0 in /usr/local/lib/python3.7/dist-packages (from ipywidgets->jupyter->pybamm==21.12) (0.2.0)\n",
            "Requirement already satisfied: fastjsonschema in /usr/local/lib/python3.7/dist-packages (from nbformat>=4.2.0->ipywidgets->jupyter->pybamm==21.12) (2.15.3)\n",
            "Requirement already satisfied: jsonschema>=2.6 in /usr/local/lib/python3.7/dist-packages (from nbformat>=4.2.0->ipywidgets->jupyter->pybamm==21.12) (4.3.3)\n",
            "Requirement already satisfied: jupyter-core in /usr/local/lib/python3.7/dist-packages (from nbformat>=4.2.0->ipywidgets->jupyter->pybamm==21.12) (4.10.0)\n",
            "Requirement already satisfied: importlib-metadata in /usr/local/lib/python3.7/dist-packages (from jsonschema>=2.6->nbformat>=4.2.0->ipywidgets->jupyter->pybamm==21.12) (4.11.3)\n",
            "Requirement already satisfied: pyrsistent!=0.17.0,!=0.17.1,!=0.17.2,>=0.14.0 in /usr/local/lib/python3.7/dist-packages (from jsonschema>=2.6->nbformat>=4.2.0->ipywidgets->jupyter->pybamm==21.12) (0.18.1)\n",
            "Requirement already satisfied: attrs>=17.4.0 in /usr/local/lib/python3.7/dist-packages (from jsonschema>=2.6->nbformat>=4.2.0->ipywidgets->jupyter->pybamm==21.12) (21.4.0)\n",
            "Requirement already satisfied: importlib-resources>=1.4.0 in /usr/local/lib/python3.7/dist-packages (from jsonschema>=2.6->nbformat>=4.2.0->ipywidgets->jupyter->pybamm==21.12) (5.7.1)\n",
            "Requirement already satisfied: zipp>=3.1.0 in /usr/local/lib/python3.7/dist-packages (from importlib-resources>=1.4.0->jsonschema>=2.6->nbformat>=4.2.0->ipywidgets->jupyter->pybamm==21.12) (3.8.0)\n",
            "Requirement already satisfied: jinja2 in /usr/local/lib/python3.7/dist-packages (from notebook->jupyter->pybamm==21.12) (2.11.3)\n",
            "Requirement already satisfied: Send2Trash in /usr/local/lib/python3.7/dist-packages (from notebook->jupyter->pybamm==21.12) (1.8.0)\n",
            "Requirement already satisfied: terminado>=0.8.1 in /usr/local/lib/python3.7/dist-packages (from notebook->jupyter->pybamm==21.12) (0.13.3)\n",
            "Requirement already satisfied: pyzmq>=13 in /usr/local/lib/python3.7/dist-packages (from jupyter-client->ipykernel->jupyter->pybamm==21.12) (22.3.0)\n",
            "Requirement already satisfied: ptyprocess in /usr/local/lib/python3.7/dist-packages (from terminado>=0.8.1->notebook->jupyter->pybamm==21.12) (0.7.0)\n",
            "Requirement already satisfied: MarkupSafe>=0.23 in /usr/local/lib/python3.7/dist-packages (from jinja2->notebook->jupyter->pybamm==21.12) (2.0.1)\n",
            "Requirement already satisfied: bleach in /usr/local/lib/python3.7/dist-packages (from nbconvert->jupyter->pybamm==21.12) (5.0.0)\n",
            "Requirement already satisfied: mistune<2,>=0.8.1 in /usr/local/lib/python3.7/dist-packages (from nbconvert->jupyter->pybamm==21.12) (0.8.4)\n",
            "Requirement already satisfied: pandocfilters>=1.4.1 in /usr/local/lib/python3.7/dist-packages (from nbconvert->jupyter->pybamm==21.12) (1.5.0)\n",
            "Requirement already satisfied: testpath in /usr/local/lib/python3.7/dist-packages (from nbconvert->jupyter->pybamm==21.12) (0.6.0)\n",
            "Requirement already satisfied: entrypoints>=0.2.2 in /usr/local/lib/python3.7/dist-packages (from nbconvert->jupyter->pybamm==21.12) (0.4)\n",
            "Requirement already satisfied: defusedxml in /usr/local/lib/python3.7/dist-packages (from nbconvert->jupyter->pybamm==21.12) (0.7.1)\n",
            "Requirement already satisfied: webencodings in /usr/local/lib/python3.7/dist-packages (from bleach->nbconvert->jupyter->pybamm==21.12) (0.5.1)\n",
            "Requirement already satisfied: latexcodec>=1.0.4 in /usr/local/lib/python3.7/dist-packages (from pybtex->pybamm==21.12) (2.0.1)\n",
            "Requirement already satisfied: PyYAML>=3.01 in /usr/local/lib/python3.7/dist-packages (from pybtex->pybamm==21.12) (3.13)\n",
            "Requirement already satisfied: qtpy>=2.0.1 in /usr/local/lib/python3.7/dist-packages (from qtconsole->jupyter->pybamm==21.12) (2.0.1)\n",
            "Requirement already satisfied: packaging in /usr/local/lib/python3.7/dist-packages (from qtpy>=2.0.1->qtconsole->jupyter->pybamm==21.12) (21.3)\n"
          ]
        }
      ],
      "source": [
        "%pip install numpy\n",
        "%pip install scipy\n",
        "%pip install matplotlib\n",
        "%pip install pybamm==21.12"
      ]
    },
    {
      "cell_type": "code",
      "source": [
        "import pybamm\n",
        "import matplotlib.pyplot as plt\n",
        "import numpy as np"
      ],
      "metadata": {
        "id": "UOiphlhVk5CN"
      },
      "execution_count": 1,
      "outputs": []
    },
    {
      "cell_type": "markdown",
      "source": [
        "Model set up"
      ],
      "metadata": {
        "id": "VY5MacmLr0CR"
      }
    },
    {
      "cell_type": "code",
      "source": [
        "# set the model type\n",
        "model = pybamm.lithium_ion.NewmanTobias()\n",
        "\n",
        "# set the default model geometry\n",
        "geometry = model.default_geometry"
      ],
      "metadata": {
        "id": "o9pgE6UAr3ED"
      },
      "execution_count": 2,
      "outputs": []
    },
    {
      "cell_type": "markdown",
      "source": [
        "Uncomment the following plot to show all the model paramenters"
      ],
      "metadata": {
        "id": "1oMx3UxNtfQV"
      }
    },
    {
      "cell_type": "code",
      "source": [
        "# format_str = '{:<75}  {:>20}'\n",
        "# print(format_str.format('PARAMETER', 'VALUE'))\n",
        "# print(\"-\"*97)\n",
        "# for key, value in model.default_parameter_values.items():\n",
        "#     try:\n",
        "#         print(format_str.format(key, value))\n",
        "#     except TypeError:\n",
        "#         print(format_str.format(key, value.__str__()))"
      ],
      "metadata": {
        "id": "45_I8eOaol40"
      },
      "execution_count": 3,
      "outputs": []
    },
    {
      "cell_type": "markdown",
      "source": [
        "Let's chage the nominal capacity"
      ],
      "metadata": {
        "id": "TubiqIUwtmj5"
      }
    },
    {
      "cell_type": "code",
      "source": [
        "# set the default model parameters\n",
        "param = model.default_parameter_values\n",
        "# NOMINAL_Q = 2.0 # [Ah]\n",
        "# param['Nominal cell capacity [A.h]'] = NOMINAL_Q  \n",
        "# param['Cell volume [m3]'] = 7.8e-06*2\n",
        "param[\"Current function [A]\"] = \"[input]\" # [A] will be a model input\n",
        "\n",
        "# set the parameters for the model and the geometry\n",
        "param.process_model(model)\n",
        "param.process_geometry(geometry)\n",
        "\n",
        "# mesh the domains\n",
        "mesh = pybamm.Mesh(geometry, model.default_submesh_types, model.default_var_pts)\n",
        "\n",
        "# discretise the model equations\n",
        "disc = pybamm.Discretisation(mesh, model.default_spatial_methods)\n",
        "disc.process_model(model)"
      ],
      "metadata": {
        "colab": {
          "base_uri": "https://localhost:8080/"
        },
        "id": "P2_5JfuTtrOA",
        "outputId": "7d2e0052-8817-4e69-f788-1c55d22ec301"
      },
      "execution_count": 4,
      "outputs": [
        {
          "output_type": "execute_result",
          "data": {
            "text/plain": [
              "<pybamm.models.full_battery_models.lithium_ion.newman_tobias.NewmanTobias at 0x7fa652bf5110>"
            ]
          },
          "metadata": {},
          "execution_count": 4
        }
      ]
    },
    {
      "cell_type": "code",
      "source": [
        "NOMINAL_Q = param['Nominal cell capacity [A.h]'] "
      ],
      "metadata": {
        "id": "iAVX0KsrPWVO"
      },
      "execution_count": 5,
      "outputs": []
    },
    {
      "cell_type": "markdown",
      "source": [
        "Now lets discharge the battery per 1h\n",
        "\n"
      ],
      "metadata": {
        "id": "Y_ZswmkOuK35"
      }
    },
    {
      "cell_type": "code",
      "source": [
        "# Lets use the default solver to compute the discharge curve\n",
        "solver = model.default_solver\n",
        "n = 361 # how many point to evaluate\n",
        "t_eval = np.linspace(0, 3600, n) # [s]\n",
        "solution = solver.solve(model, t_eval, inputs={'Current function [A]': NOMINAL_Q /1})"
      ],
      "metadata": {
        "id": "nPtKyAYvuUH1"
      },
      "execution_count": 6,
      "outputs": []
    },
    {
      "cell_type": "markdown",
      "source": [
        "lets plot the result"
      ],
      "metadata": {
        "id": "j47Ep1Jrw55r"
      }
    },
    {
      "cell_type": "code",
      "source": [
        "time = solution[\"Time [h]\"].entries\n",
        "voltage = solution[\"Terminal voltage [V]\"].entries\n",
        "\n",
        "fig = plt.figure(figsize=(8,5))\n",
        "\n",
        "with plt.style.context('seaborn'):\n",
        "    ax = fig.add_subplot(111)\n",
        "    ax.plot(time, voltage)\n",
        "    ax.set_xlabel(\"Time [h]\")\n",
        "    ax.set_ylabel(\"Terminal voltage [V]\")\n",
        "\n",
        "plt.show()"
      ],
      "metadata": {
        "id": "P0qwzySkw_x9",
        "outputId": "49a52a8a-4df0-4bb2-92d9-e529400e893f",
        "colab": {
          "base_uri": "https://localhost:8080/",
          "height": 334
        }
      },
      "execution_count": 7,
      "outputs": [
        {
          "output_type": "display_data",
          "data": {
            "text/plain": [
              "<Figure size 576x360 with 1 Axes>"
            ],
            "image/png": "[encoded data removed]"
          },
          "metadata": {
            "needs_background": "light"
          }
        }
      ]
    },
    {
      "cell_type": "markdown",
      "source": [
        "## Find the 1 C-rate current"
      ],
      "metadata": {
        "id": "mr4W4lvLyA09"
      }
    },
    {
      "cell_type": "markdown",
      "source": [
        "We are going to use a old but simple method but effective metod to find the exact value of current to discharge the battery afte 1 hour with a cut of current of 3.3 V.\n",
        "We are going to use [Secant Method](https://en.wikipedia.org/wiki/Secant_method) to find the zero of the follinwing target function:\n",
        "\n",
        "$ f(i) = V_{end}(i) - V_{cut-off} $ \n",
        "\n",
        "> Note: a battery is discharge when the terminal voltage cross the cut-off value"
      ],
      "metadata": {
        "id": "AEWqZFNCyCs0"
      }
    },
    {
      "cell_type": "code",
      "source": [
        "# from scipy.optimize import differential_evolution # genetic algorithm optimizer\n",
        "\n",
        "# CUTOFF_V = 3.3 \n",
        "# i_min = NOMINAL_Q * 0.6/ 1.\n",
        "# i_max = NOMINAL_Q * 1.5 / 1.\n",
        "\n",
        "# def f_target(i):\n",
        "#     solution = solver.solve(model, t_eval, inputs={'Current function [A]': i})\n",
        "#     V_new = solution[\"Terminal voltage [V]\"].entries[-1]\n",
        "#     return V_new-CUTOFF_V\n",
        "\n",
        "# differential_evolution(f_target, bounds=[(i_min, i_max)])"
      ],
      "metadata": {
        "id": "A5yWQP8nFmVp"
      },
      "execution_count": 8,
      "outputs": []
    },
    {
      "cell_type": "code",
      "source": [
        "from scipy.interpolate import interp1d\n",
        "\n",
        "CUTOFF_V = 3.5\n",
        "\n",
        "i_0 = NOMINAL_Q * 0.8/ 1.\n",
        "i_1 = NOMINAL_Q * 1.1 / 1.\n",
        "\n",
        "def f_target(t):\n",
        "    return t-1\n",
        "\n",
        "def get_cut_off_time(V, t):\n",
        "    # diff = np.abs(V-CUTOFF_V)\n",
        "    # indx = np.where(diff == diff.min())[0]\n",
        "    # return t[indx][0]\n",
        "    f_int = interp1d(V, t)\n",
        "    return f_int(CUTOFF_V)\n",
        "\n",
        "t_eval = np.linspace(0, 7200, 361)\n",
        "solution_0 = solver.solve(model, t_eval, inputs={'Current function [A]': i_0})\n",
        "tc_0 = get_cut_off_time(solution_0[\"Terminal voltage [V]\"].entries, \n",
        "                        solution_0[\"Time [h]\"].entries ) \n",
        "solution_1 = solver.solve(model, t_eval, inputs={'Current function [A]': i_1})\n",
        "tc_1= get_cut_off_time(solution_1[\"Terminal voltage [V]\"].entries, \n",
        "                        solution_1[\"Time [h]\"].entries ) \n",
        "\n",
        "# The loop end when diffence between two consecutive aptempt are less that 5% \n",
        "n_int = 0\n",
        "while abs(tc_0-tc_1) > 0.001:\n",
        "    i_new = i_1 - f_target(tc_1)*(i_1-i_0) / (f_target(tc_1)- f_target(tc_0))\n",
        "    solution = solver.solve(model, t_eval, inputs={'Current function [A]': i_new})\n",
        "    tc_new= get_cut_off_time(solution[\"Terminal voltage [V]\"].entries, \n",
        "                             solution[\"Time [h]\"].entries )\n",
        "    print(f\"[{n_int+1}]\\ti_new: {i_new:1.5g} A\\ttc_new: {tc_new:1.5g} h\") \n",
        "    i_0 = i_1\n",
        "    i_1 = i_new\n",
        "    tc_0 = tc_1\n",
        "    tc_1 = tc_new\n",
        "    n_int += 1\n",
        "C_RATE = i_1\n",
        "print(f\"C-rate current = {C_RATE} A\")"
      ],
      "metadata": {
        "id": "oxvxoOmFx6FD",
        "outputId": "2eef8056-f522-45e6-8f05-812ba2ee30a5",
        "colab": {
          "base_uri": "https://localhost:8080/"
        }
      },
      "execution_count": 9,
      "outputs": [
        {
          "output_type": "stream",
          "name": "stdout",
          "text": [
            "[1]\ti_new: 0.67592 A\ttc_new: 0.97654 h\n",
            "[2]\ti_new: 0.65838 A\ttc_new: 1.0032 h\n",
            "[3]\ti_new: 0.66047 A\ttc_new: 1 h\n",
            "[4]\ti_new: 0.66049 A\ttc_new: 1 h\n",
            "C-rate current = 0.6604925535328426 A\n"
          ]
        }
      ]
    },
    {
      "cell_type": "markdown",
      "source": [
        "Let's plot the result"
      ],
      "metadata": {
        "id": "pzA6mmZgQ079"
      }
    },
    {
      "cell_type": "code",
      "source": [
        "t_eval = np.linspace(0, 3600, 361)\n",
        "solution_old = solver.solve(model, t_eval, inputs={'Current function [A]': NOMINAL_Q/1.})\n",
        "solution = solver.solve(model, t_eval, inputs={'Current function [A]': C_RATE})\n",
        "\n",
        "time_old = solution_old[\"Time [h]\"].entries\n",
        "voltage_old = solution_old[\"Terminal voltage [V]\"].entries\n",
        "time = solution[\"Time [h]\"].entries\n",
        "voltage = solution[\"Terminal voltage [V]\"].entries\n",
        "\n",
        "fig = plt.figure(figsize=(6,4), dpi=120)\n",
        "\n",
        "with plt.style.context('seaborn'):\n",
        "    ax = fig.add_subplot(111)\n",
        "    ax.plot(time_old, voltage_old, label='Nominal')\n",
        "    ax.plot(time, voltage, label='1 C-rate')\n",
        "    ax.set_xlabel(\"Time [h]\")\n",
        "    ax.set_ylabel(\"Terminal voltage [V]\")\n",
        "    ax.legend()\n",
        "\n",
        "plt.show()"
      ],
      "metadata": {
        "id": "2iG0AZaIQzAG",
        "outputId": "672f592f-ce7a-499d-919d-cae13ea16608",
        "colab": {
          "base_uri": "https://localhost:8080/",
          "height": 457
        }
      },
      "execution_count": 10,
      "outputs": [
        {
          "output_type": "display_data",
          "data": {
            "text/plain": [
              "<Figure size 720x480 with 1 Axes>"
            ],
            "image/png": "[encoded data removed]"
          },
          "metadata": {
            "needs_background": "light"
          }
        }
      ]
    },
    {
      "cell_type": "code",
      "source": [
        "np.linspace(0, 7200, 181)"
      ],
      "metadata": {
        "id": "cm_5K2BYJaA7",
        "outputId": "00f075d9-3ef3-4f2b-cc57-86e196784aa5",
        "colab": {
          "base_uri": "https://localhost:8080/"
        }
      },
      "execution_count": 18,
      "outputs": [
        {
          "output_type": "execute_result",
          "data": {
            "text/plain": [
              "array([   0.,   40.,   80.,  120.,  160.,  200.,  240.,  280.,  320.,\n",
              "        360.,  400.,  440.,  480.,  520.,  560.,  600.,  640.,  680.,\n",
              "        720.,  760.,  800.,  840.,  880.,  920.,  960., 1000., 1040.,\n",
              "       1080., 1120., 1160., 1200., 1240., 1280., 1320., 1360., 1400.,\n",
              "       1440., 1480., 1520., 1560., 1600., 1640., 1680., 1720., 1760.,\n",
              "       1800., 1840., 1880., 1920., 1960., 2000., 2040., 2080., 2120.,\n",
              "       2160., 2200., 2240., 2280., 2320., 2360., 2400., 2440., 2480.,\n",
              "       2520., 2560., 2600., 2640., 2680., 2720., 2760., 2800., 2840.,\n",
              "       2880., 2920., 2960., 3000., 3040., 3080., 3120., 3160., 3200.,\n",
              "       3240., 3280., 3320., 3360., 3400., 3440., 3480., 3520., 3560.,\n",
              "       3600., 3640., 3680., 3720., 3760., 3800., 3840., 3880., 3920.,\n",
              "       3960., 4000., 4040., 4080., 4120., 4160., 4200., 4240., 4280.,\n",
              "       4320., 4360., 4400., 4440., 4480., 4520., 4560., 4600., 4640.,\n",
              "       4680., 4720., 4760., 4800., 4840., 4880., 4920., 4960., 5000.,\n",
              "       5040., 5080., 5120., 5160., 5200., 5240., 5280., 5320., 5360.,\n",
              "       5400., 5440., 5480., 5520., 5560., 5600., 5640., 5680., 5720.,\n",
              "       5760., 5800., 5840., 5880., 5920., 5960., 6000., 6040., 6080.,\n",
              "       6120., 6160., 6200., 6240., 6280., 6320., 6360., 6400., 6440.,\n",
              "       6480., 6520., 6560., 6600., 6640., 6680., 6720., 6760., 6800.,\n",
              "       6840., 6880., 6920., 6960., 7000., 7040., 7080., 7120., 7160.,\n",
              "       7200.])"
            ]
          },
          "metadata": {},
          "execution_count": 18
        }
      ]
    },
    {
      "cell_type": "code",
      "source": [
        "solution_1[\"Time [h]\"].entries"
      ],
      "metadata": {
        "id": "JbKIOHH21K-h",
        "outputId": "ad0ee383-fd07-4425-9c2e-3f1faa1e667b",
        "colab": {
          "base_uri": "https://localhost:8080/"
        }
      },
      "execution_count": 10,
      "outputs": [
        {
          "output_type": "execute_result",
          "data": {
            "text/plain": [
              "array([0.        , 0.01010101, 0.02020202, 0.03030303, 0.04040404,\n",
              "       0.05050505, 0.06060606, 0.07070707, 0.08080808, 0.09090909,\n",
              "       0.1010101 , 0.11111111, 0.12121212, 0.13131313, 0.14141414,\n",
              "       0.15151515, 0.16161616, 0.17171717, 0.18181818, 0.19191919,\n",
              "       0.2020202 , 0.21212121, 0.22222222, 0.23232323, 0.24242424,\n",
              "       0.25252525, 0.26262626, 0.27272727, 0.28282828, 0.29292929,\n",
              "       0.3030303 , 0.31313131, 0.32323232, 0.33333333, 0.34343434,\n",
              "       0.35353535, 0.36363636, 0.37373737, 0.38383838, 0.39393939,\n",
              "       0.4040404 , 0.41414141, 0.42424242, 0.43434343, 0.44444444,\n",
              "       0.45454545, 0.46464646, 0.47474747, 0.48484848, 0.49494949,\n",
              "       0.50505051, 0.51515152, 0.52525253, 0.53535354, 0.54545455,\n",
              "       0.55555556, 0.56565657, 0.57575758, 0.58585859, 0.5959596 ,\n",
              "       0.60606061, 0.61616162, 0.62626263, 0.63636364, 0.64646465,\n",
              "       0.65656566, 0.66666667, 0.67676768, 0.68686869, 0.6969697 ,\n",
              "       0.70707071, 0.71717172, 0.72727273, 0.73737374, 0.74747475,\n",
              "       0.75757576, 0.76767677, 0.77414736])"
            ]
          },
          "metadata": {},
          "execution_count": 10
        }
      ]
    },
    {
      "cell_type": "code",
      "source": [
        "time = solution_0[\"Time [h]\"].entries\n",
        "voltage = solution_0[\"Terminal voltage [V]\"].entries\n",
        "time_1 = solution_1[\"Time [h]\"].entries\n",
        "voltage_1 = solution_1[\"Terminal voltage [V]\"].entries\n",
        "\n",
        "fig = plt.figure(figsize=(8,5))\n",
        "\n",
        "with plt.style.context('seaborn'):\n",
        "    ax = fig.add_subplot(111)\n",
        "    ax.plot(time, voltage)\n",
        "    ax.plot(time_1, voltage_1)\n",
        "    ax.set_xlabel(\"Time [h]\")\n",
        "    ax.set_ylabel(\"Terminal voltage [V]\")\n",
        "\n",
        "plt.show()"
      ],
      "metadata": {
        "id": "9ci9951-0-MB",
        "outputId": "1db186be-9106-4191-d1e4-089237b1ed28",
        "colab": {
          "base_uri": "https://localhost:8080/",
          "height": 334
        }
      },
      "execution_count": 8,
      "outputs": [
        {
          "output_type": "display_data",
          "data": {
            "text/plain": [
              "<Figure size 576x360 with 1 Axes>"
            ],
            "image/png": "[encoded data removed]"
          },
          "metadata": {
            "needs_background": "light"
          }
        }
      ]
    },
    {
      "cell_type": "code",
      "source": [
        "# Solution with current = 0.68\n",
        "old_solution = solver.solve(model, t_eval, inputs={\"Current function [A]\": 0.68})\n",
        "old_time = old_solution[\"Time [h]\"].entries\n",
        "old_voltage = old_solution[\"Terminal voltage [V]\"].entries\n",
        "\n",
        "# Solution with current = 1.4\n",
        "new_solution = solver.solve(model, t_eval, inputs={\"Current function [A]\": 1.4})\n",
        "new_time = new_solution[\"Time [h]\"].entries\n",
        "new_voltage = new_solution[\"Terminal voltage [V]\"].entries\n",
        "\n",
        "plt.plot(old_time, old_voltage, lw=2, label=\"Current = 0.68\")\n",
        "plt.plot(new_time, new_voltage, lw=2, label=\"Current = 1.4\")\n",
        "plt.xlabel(\"Time [h]\", fontsize=15)\n",
        "plt.ylabel(\"Terminal voltage [V]\", fontsize=15)\n",
        "plt.legend(fontsize=15)\n",
        "plt.show()"
      ],
      "metadata": {
        "id": "xs3Hxz1g0eao",
        "outputId": "e0bf3e6b-6877-409f-d168-cd5d9c20cdd8",
        "colab": {
          "base_uri": "https://localhost:8080/",
          "height": 397
        }
      },
      "execution_count": 53,
      "outputs": [
        {
          "output_type": "error",
          "ename": "SolverError",
          "evalue": "ignored",
          "traceback": [
            "\u001b[0;31m---------------------------------------------------------------------------\u001b[0m",
            "\u001b[0;31mSolverError\u001b[0m                               Traceback (most recent call last)",
            "\u001b[0;32m<ipython-input-53-0a7dceced69c>\u001b[0m in \u001b[0;36m<module>\u001b[0;34m()\u001b[0m\n\u001b[1;32m      1\u001b[0m \u001b[0;31m# Solution with current = 0.68\u001b[0m\u001b[0;34m\u001b[0m\u001b[0;34m\u001b[0m\u001b[0;34m\u001b[0m\u001b[0m\n\u001b[0;32m----> 2\u001b[0;31m \u001b[0mold_solution\u001b[0m \u001b[0;34m=\u001b[0m \u001b[0msolver\u001b[0m\u001b[0;34m.\u001b[0m\u001b[0msolve\u001b[0m\u001b[0;34m(\u001b[0m\u001b[0mmodel\u001b[0m\u001b[0;34m,\u001b[0m \u001b[0mt_eval\u001b[0m\u001b[0;34m,\u001b[0m \u001b[0minputs\u001b[0m\u001b[0;34m=\u001b[0m\u001b[0;34m{\u001b[0m\u001b[0;34m\"Current function [A]\"\u001b[0m\u001b[0;34m:\u001b[0m \u001b[0;36m0.68\u001b[0m\u001b[0;34m}\u001b[0m\u001b[0;34m)\u001b[0m\u001b[0;34m\u001b[0m\u001b[0;34m\u001b[0m\u001b[0m\n\u001b[0m\u001b[1;32m      3\u001b[0m \u001b[0mold_time\u001b[0m \u001b[0;34m=\u001b[0m \u001b[0mold_solution\u001b[0m\u001b[0;34m[\u001b[0m\u001b[0;34m\"Time [h]\"\u001b[0m\u001b[0;34m]\u001b[0m\u001b[0;34m.\u001b[0m\u001b[0mentries\u001b[0m\u001b[0;34m\u001b[0m\u001b[0;34m\u001b[0m\u001b[0m\n\u001b[1;32m      4\u001b[0m \u001b[0mold_voltage\u001b[0m \u001b[0;34m=\u001b[0m \u001b[0mold_solution\u001b[0m\u001b[0;34m[\u001b[0m\u001b[0;34m\"Terminal voltage [V]\"\u001b[0m\u001b[0;34m]\u001b[0m\u001b[0;34m.\u001b[0m\u001b[0mentries\u001b[0m\u001b[0;34m\u001b[0m\u001b[0;34m\u001b[0m\u001b[0m\n\u001b[1;32m      5\u001b[0m \u001b[0;34m\u001b[0m\u001b[0m\n",
            "\u001b[0;32m/usr/local/lib/python3.7/dist-packages/pybamm/solvers/base_solver.py\u001b[0m in \u001b[0;36msolve\u001b[0;34m(self, model, t_eval, external_variables, inputs, initial_conditions, nproc, calculate_sensitivities)\u001b[0m\n\u001b[1;32m   1024\u001b[0m                     \u001b[0mmodel\u001b[0m\u001b[0;34m,\u001b[0m\u001b[0;34m\u001b[0m\u001b[0;34m\u001b[0m\u001b[0m\n\u001b[1;32m   1025\u001b[0m                     \u001b[0mt_eval_dimensionless\u001b[0m\u001b[0;34m[\u001b[0m\u001b[0mstart_index\u001b[0m\u001b[0;34m:\u001b[0m\u001b[0mend_index\u001b[0m\u001b[0;34m]\u001b[0m\u001b[0;34m,\u001b[0m\u001b[0;34m\u001b[0m\u001b[0;34m\u001b[0m\u001b[0m\n\u001b[0;32m-> 1026\u001b[0;31m                     \u001b[0mext_and_inputs_list\u001b[0m\u001b[0;34m[\u001b[0m\u001b[0;36m0\u001b[0m\u001b[0;34m]\u001b[0m\u001b[0;34m,\u001b[0m\u001b[0;34m\u001b[0m\u001b[0;34m\u001b[0m\u001b[0m\n\u001b[0m\u001b[1;32m   1027\u001b[0m                 )\n\u001b[1;32m   1028\u001b[0m                 \u001b[0mnew_solutions\u001b[0m \u001b[0;34m=\u001b[0m \u001b[0;34m[\u001b[0m\u001b[0mnew_solution\u001b[0m\u001b[0;34m]\u001b[0m\u001b[0;34m\u001b[0m\u001b[0;34m\u001b[0m\u001b[0m\n",
            "\u001b[0;32m/usr/local/lib/python3.7/dist-packages/pybamm/solvers/casadi_solver.py\u001b[0m in \u001b[0;36m_integrate\u001b[0;34m(self, model, t_eval, inputs_dict)\u001b[0m\n\u001b[1;32m    266\u001b[0m                             \u001b[0;34m\"(currently, dt_max={}).\"\u001b[0m\u001b[0;34m\u001b[0m\u001b[0;34m\u001b[0m\u001b[0m\n\u001b[1;32m    267\u001b[0m                             \"\".format(\n\u001b[0;32m--> 268\u001b[0;31m                                 \u001b[0mt\u001b[0m \u001b[0;34m*\u001b[0m \u001b[0mmodel\u001b[0m\u001b[0;34m.\u001b[0m\u001b[0mtimescale_eval\u001b[0m\u001b[0;34m,\u001b[0m \u001b[0mdt_max\u001b[0m \u001b[0;34m*\u001b[0m \u001b[0mmodel\u001b[0m\u001b[0;34m.\u001b[0m\u001b[0mtimescale_eval\u001b[0m\u001b[0;34m\u001b[0m\u001b[0;34m\u001b[0m\u001b[0m\n\u001b[0m\u001b[1;32m    269\u001b[0m                             )\n\u001b[1;32m    270\u001b[0m                         )\n",
            "\u001b[0;31mSolverError\u001b[0m: Maximum number of decreased steps occurred at t=0.0. Try solving the model up to this time only or reducing dt_max (currently, dt_max=7.062065422608349)."
          ]
        }
      ]
    },
    {
      "cell_type": "code",
      "source": [
        "solution.plot()"
      ],
      "metadata": {
        "id": "7FW00oc2vPbr"
      },
      "execution_count": null,
      "outputs": []
    },
    {
      "cell_type": "code",
      "source": [
        "with plt.style.context(\"seaborn\"):\n",
        "    sim_dfn.plot()"
      ],
      "metadata": {
        "id": "nRr-mZ-llfGW"
      },
      "execution_count": null,
      "outputs": []
    },
    {
      "cell_type": "code",
      "source": [
        "fig.savefig(\"test.png\")"
      ],
      "metadata": {
        "id": "od11MBSElmPg"
      },
      "execution_count": 6,
      "outputs": []
    },
    {
      "cell_type": "code",
      "source": [
        ""
      ],
      "metadata": {
        "id": "ijYIKJmhlwR6"
      },
      "execution_count": null,
      "outputs": []
    }
  ],
  "metadata": {
    "language_info": {
      "name": "python"
    },
    "orig_nbformat": 4,
    "colab": {
      "name": "2-Hands-on_LIB_modelling.ipynb",
      "provenance": []
    },
    "kernelspec": {
      "name": "python3",
      "display_name": "Python 3"
    },
    "accelerator": "TPU"
  },
  "nbformat": 4,
  "nbformat_minor": 0
}