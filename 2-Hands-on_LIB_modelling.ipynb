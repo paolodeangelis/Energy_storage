{
  "cells": [
    {
      "cell_type": "markdown",
      "metadata": {
        "id": "X0ZoMNKdeXjB"
      },
      "source": [
        "# Hands-on Lithium Ion Battery (LIB) modelling\n",
        "\n",
        "[![Open In Colab](https://colab.research.google.com/assets/colab-badge.svg)](https://colab.research.google.com/github/paolodeangelis/Energy_storage/blob/main/2-Hands-on_LIB_modelling.ipynb)"
      ]
    },
    {
      "cell_type": "markdown",
      "metadata": {
        "id": "MmoTYqRR_qz2"
      },
      "source": [
        "In this notebook, we will use the Python library [`PyBaMM`](https://www.pybamm.org/) (Python Battery Mathematical Modelling),\n",
        " which includes various models based on the [Differential-Algebraic system of Equations (DAEs)](https://en.wikipedia.org/wiki/Differential-algebraic_system_of_equations),\n",
        " including the P2D model seen in this lesson.\n",
        "\n",
        "The tutorial is divided into two main parts.\n",
        "In the first one, we will take data from the literature on a battery and use them to calculate various properties of it.\n",
        "In the second one, we will present a real problem (very simplified) for the choice of the battery using the data calculated before."
      ]
    },
    {
      "cell_type": "markdown",
      "metadata": {
        "id": "iVBsH9B-ks8a"
      },
      "source": [
        "## Installing the packages needed\n",
        "\n",
        "The first thing to do is install all the packages that we will use for this tutorial."
      ]
    },
    {
      "cell_type": "code",
      "execution_count": null,
      "metadata": {
        "colab": {
          "base_uri": "https://localhost:8080/"
        },
        "id": "xc9gVAykeXjO",
        "outputId": "eb7d3409-a0d0-4228-b514-e2302b3f300c"
      },
      "outputs": [],
      "source": [
        "%pip install numpy\n",
        "%pip install scipy\n",
        "%pip install matplotlib\n",
        "%pip install pandas\n",
        "%pip install pybamm==24.1"
      ]
    },
    {
      "cell_type": "markdown",
      "metadata": {
        "id": "i42FrFqW_qz9"
      },
      "source": [
        "Of course, we need to import them before we use them."
      ]
    },
    {
      "cell_type": "code",
      "execution_count": null,
      "metadata": {
        "id": "UOiphlhVk5CN"
      },
      "outputs": [],
      "source": [
        "from typing import Tuple, Union\n",
        "\n",
        "import matplotlib.pyplot as plt\n",
        "import numpy as np\n",
        "import pandas as pd\n",
        "import pybamm\n",
        "from scipy.integrate import trapezoid\n",
        "from scipy.interpolate import interp1d\n",
        "\n",
        "plt.style.use(\"seaborn-v0_8-notebook\")"
      ]
    },
    {
      "cell_type": "markdown",
      "metadata": {
        "id": "VY5MacmLr0CR"
      },
      "source": [
        "## Model definition"
      ]
    },
    {
      "cell_type": "markdown",
      "metadata": {
        "id": "LfgDmCy__q0C"
      },
      "source": [
        "We will use the the P2D model by [Doyle-Fuller-Newman](https://www.doi.org/10.1149/1.2221597) (DFN), which generalizes the [Newman-Tiedemann](https://doi.org/10.1002/aic.690210103) model. The procedure of derivation of the equations is similar to that seen in class (mass, charge, and energy balance). The main difference is that in the mass balance, instead of dilute solution theory, we use concentrated solution theory. This is because the energy density of the latest LIBs made Newman's first model (1975) too simplified.\n"
      ]
    },
    {
      "cell_type": "code",
      "execution_count": null,
      "metadata": {
        "id": "o9pgE6UAr3ED"
      },
      "outputs": [],
      "source": [
        "# set the model type\n",
        "model = pybamm.lithium_ion.DFN()"
      ]
    },
    {
      "cell_type": "markdown",
      "metadata": {
        "id": "1oMx3UxNtfQV"
      },
      "source": [
        "We are going to model the commercial battery [LG-M50 (5000 mAh)](https://www.batteryspace.com/prod-specs/11514.pdf) using the chemistry and the parameters used in [Chang-Hui Chen *et al.* (2020)](https://iopscience.iop.org/article/10.1149/1945-7111/ab9050) work.\n",
        "\n",
        "<img src=\"https://github.com/paolodeangelis/Energy_storage/raw/main/img/LG-M50-5000mAh.jpg\" width=\"400\"/>"
      ]
    },
    {
      "cell_type": "code",
      "execution_count": null,
      "metadata": {
        "colab": {
          "base_uri": "https://localhost:8080/",
          "height": 35
        },
        "id": "iaZR_Z85_q0I",
        "outputId": "f9bda98e-534f-4094-ecca-632311f04f88"
      },
      "outputs": [],
      "source": [
        "# Get chemistry form Chen (2020) work\n",
        "chemistry = pybamm.parameter_sets.Chen2020\n",
        "chemistry"
      ]
    },
    {
      "cell_type": "markdown",
      "metadata": {
        "id": "5E0ZlU0P_q0J"
      },
      "source": [
        "From the chemistry, the library extracts the parameters needed."
      ]
    },
    {
      "cell_type": "code",
      "execution_count": null,
      "metadata": {
        "id": "e3IrWBd1U1e-"
      },
      "outputs": [],
      "source": [
        "param = pybamm.ParameterValues(chemistry)\n",
        "\n",
        "# Geometrical parameters\n",
        "param[\"Negative current collector thickness [m]\"] = 1.2e-05\n",
        "param[\"Negative electrode thickness [m]\"] = 8.52e-05\n",
        "param[\"Separator thickness [m]\"] = 1.2e-05\n",
        "param[\"Positive electrode thickness [m]\"] = 7.56e-05\n",
        "param[\"Positive current collector thickness [m]\"] = 1.6e-05\n",
        "param[\"Electrode height [m]\"] = 0.065\n",
        "param[\"Electrode width [m]\"] = 1.58\n",
        "param[\"Cell cooling surface area [m2]\"] = 0.00531\n",
        "param[\"Cell volume [m3]\"] = 2.42e-05"
      ]
    },
    {
      "cell_type": "markdown",
      "metadata": {
        "id": "OYwZqads_q0L"
      },
      "source": [
        "To play with the model, we set the Current (`\"Current function [A]\"`) and the Ambient Temperature (`\"Ambient temperature [K]\"`)  as **input** of the model.\n",
        "Which means that these two parameters now have to be set by the user."
      ]
    },
    {
      "cell_type": "code",
      "execution_count": null,
      "metadata": {
        "id": "4un-Fsx0_q0L"
      },
      "outputs": [],
      "source": [
        "param[\"Current function [A]\"] = \"[input]\"\n",
        "param[\"Ambient temperature [K]\"] = \"[input]\""
      ]
    },
    {
      "cell_type": "markdown",
      "metadata": {
        "id": "Bx-Rp6LM_q0M"
      },
      "source": [
        "We can print all the 98 (!) parameters:"
      ]
    },
    {
      "cell_type": "code",
      "execution_count": null,
      "metadata": {
        "colab": {
          "base_uri": "https://localhost:8080/"
        },
        "id": "jBLIxtRV_q0M",
        "outputId": "b3e2fe56-f4fa-4091-f49f-581dabb1cfae"
      },
      "outputs": [],
      "source": [
        "format_str = \"{:<75}  {:>20}\"\n",
        "print(format_str.format(\"PARAMETER\", \"VALUE\"))\n",
        "print(\"-\" * 97)\n",
        "for key, value in param.items():\n",
        "    try:\n",
        "        print(format_str.format(key, value))\n",
        "    except TypeError:\n",
        "        print(format_str.format(key, value.__str__()))"
      ]
    },
    {
      "cell_type": "markdown",
      "metadata": {
        "id": "ux5OdnYx_q0N"
      },
      "source": [
        "## Geometry and Domain discretization\n",
        "\n",
        "Now we define the geometry and set the discretization of the 1D cylindrical domain."
      ]
    },
    {
      "cell_type": "code",
      "execution_count": null,
      "metadata": {
        "id": "ggCeqvXc_q0O"
      },
      "outputs": [],
      "source": [
        "# set the parameters for the model and the geometry\n",
        "param.process_model(model)\n",
        "geometry = pybamm.battery_geometry()\n",
        "param.process_geometry(geometry)"
      ]
    },
    {
      "cell_type": "markdown",
      "metadata": {
        "id": "TubiqIUwtmj5"
      },
      "source": [
        "discretization (i.e mesh size)"
      ]
    },
    {
      "cell_type": "code",
      "execution_count": null,
      "metadata": {
        "id": "P2_5JfuTtrOA"
      },
      "outputs": [],
      "source": [
        "# domain discretisation\n",
        "submesh_types = {\n",
        "    \"negative electrode\": pybamm.Uniform1DSubMesh,\n",
        "    \"separator\": pybamm.Uniform1DSubMesh,\n",
        "    \"positive electrode\": pybamm.Uniform1DSubMesh,\n",
        "    \"negative particle\": pybamm.Uniform1DSubMesh,\n",
        "    \"positive particle\": pybamm.Uniform1DSubMesh,\n",
        "    \"negative particle size\": pybamm.Uniform1DSubMesh,\n",
        "    \"positive particle size\": pybamm.Uniform1DSubMesh,\n",
        "    \"current collector\": pybamm.SubMesh0D,\n",
        "}\n",
        "\n",
        "var = pybamm.standard_spatial_vars\n",
        "var_pts = {var.x_n: 25, var.x_s: 8, var.x_p: 25, var.r_n: 30, var.r_p: 30}\n",
        "mesh = pybamm.Mesh(geometry, submesh_types, var_pts)"
      ]
    },
    {
      "cell_type": "markdown",
      "metadata": {
        "id": "x4H1mCdx_q0S"
      },
      "source": [
        "We set the [Finite Volume Methos](https://en.wikipedia.org/wiki/Finite_volume_method) as numerical method to solve the [Partial Differential Equations (PDE)](https://en.wikipedia.org/wiki/Partial_differential_equation)."
      ]
    },
    {
      "cell_type": "code",
      "execution_count": null,
      "metadata": {
        "colab": {
          "base_uri": "https://localhost:8080/"
        },
        "id": "pxF42v8S_q0T",
        "outputId": "270185d8-b139-4929-93b3-3ad621bb4bcc"
      },
      "outputs": [],
      "source": [
        "# Spazial integrazion methods\n",
        "spatial_methods = {\n",
        "    \"current collector\": pybamm.ZeroDimensionalSpatialMethod(),\n",
        "    \"macroscale\": pybamm.FiniteVolume(),\n",
        "    \"negative particle\": pybamm.FiniteVolume(),\n",
        "    \"positive particle\": pybamm.FiniteVolume(),\n",
        "}\n",
        "disc = pybamm.Discretisation(mesh, spatial_methods)\n",
        "disc.process_model(model)"
      ]
    },
    {
      "cell_type": "markdown",
      "metadata": {
        "id": "8vQ22D9o_q0V"
      },
      "source": [
        "Ploting the discretization result."
      ]
    },
    {
      "cell_type": "code",
      "execution_count": null,
      "metadata": {
        "id": "CISh3WVRUfrm"
      },
      "outputs": [],
      "source": [
        "macroscale = [\"negative electrode\", \"separator\", \"positive electrode\"]\n",
        "x_var = pybamm.SpatialVariable(\"x\", domain=macroscale)\n",
        "r_var = pybamm.SpatialVariable(\"r\", domain=[\"negative particle\"])\n",
        "# Discretise\n",
        "x_disc = disc.process_symbol(x_var)\n",
        "r_disc = disc.process_symbol(r_var)\n",
        "\n",
        "# Evaluate\n",
        "x = x_disc.evaluate()\n",
        "r = r_disc.evaluate()\n",
        "t_ne = param[\"Negative electrode thickness [m]\"]\n",
        "t_sp = param[\"Separator thickness [m]\"]\n",
        "t_pe = param[\"Positive electrode thickness [m]\"]\n",
        "t_cell = t_ne + t_sp + t_pe\n",
        "r_ne = param[\"Negative particle radius [m]\"]"
      ]
    },
    {
      "cell_type": "code",
      "execution_count": null,
      "metadata": {
        "colab": {
          "base_uri": "https://localhost:8080/",
          "height": 684
        },
        "id": "ezJXoq2YUXme",
        "outputId": "73647734-72cc-47ad-b88b-cdca5237ed33"
      },
      "outputs": [],
      "source": [
        "fig = plt.figure(figsize=(10, 6), dpi=120)\n",
        "m2um = 1e6\n",
        "\n",
        "with plt.style.context(\"seaborn-v0_8-notebook\"):\n",
        "    ax_x = fig.add_subplot(211)\n",
        "    ax_r = fig.add_subplot(212)\n",
        "    plt.subplots_adjust(hspace=0.5)\n",
        "    start = 0.0\n",
        "    for t, label in zip(\n",
        "        [t_ne, t_sp, t_pe], [\"Negative electrode\", \"Separator\", \"Positive electrode\"]\n",
        "    ):\n",
        "        ax_x.plot(\n",
        "            np.r_[start, start + t] * m2um,\n",
        "            [0, 0],\n",
        "            label=label,\n",
        "            lw=8,\n",
        "            solid_capstyle=\"butt\",\n",
        "        )\n",
        "        start += t\n",
        "    ax_x.scatter(\n",
        "        x * m2um,\n",
        "        np.zeros(len(x)),\n",
        "        marker=\"|\",\n",
        "        color=\"k\",\n",
        "        lw=0.5,\n",
        "        s=300,\n",
        "        zorder=10,\n",
        "    )\n",
        "    ax_r.plot(\n",
        "        np.r_[0, r_ne] * m2um,\n",
        "        [0, 0],\n",
        "        label=\"Negative particles\",\n",
        "        lw=8,\n",
        "        solid_capstyle=\"butt\",\n",
        "    )\n",
        "    ax_r.scatter(\n",
        "        r * m2um,\n",
        "        np.zeros(len(r)),\n",
        "        marker=\"|\",\n",
        "        color=\"k\",\n",
        "        lw=0.5,\n",
        "        s=300,\n",
        "        zorder=10,\n",
        "    )\n",
        "    ax_x.set_xlabel(r\"x [$\\mathrm{\\mu m}$]\")\n",
        "    ax_x.set_ylabel(r\"y [$\\mathrm{\\mu m}$]\")\n",
        "    ax_x.get_yaxis().set_visible(False)\n",
        "    ax_x.legend()\n",
        "    ax_x.set_title(\"Cell Discretisations\")\n",
        "    ax_r.set_xlabel(r\"r [$\\mathrm{\\mu m}$]\")\n",
        "    ax_r.get_yaxis().set_visible(False)\n",
        "    ax_r.legend()\n",
        "    ax_r.set_title(\"Particle Discretisations\")\n",
        "\n",
        "plt.show()"
      ]
    },
    {
      "cell_type": "markdown",
      "metadata": {
        "id": "Zvlpaoqr_q0Y"
      },
      "source": [
        "## [Study 1] Voltage discharge profile"
      ]
    },
    {
      "cell_type": "markdown",
      "metadata": {
        "id": "6rhLqLIF_q0Z"
      },
      "source": [
        "Now we can compute the discharge curge"
      ]
    },
    {
      "cell_type": "code",
      "execution_count": null,
      "metadata": {
        "id": "iAVX0KsrPWVO"
      },
      "outputs": [],
      "source": [
        "NOMINAL_Q = param[\"Nominal cell capacity [A.h]\"]\n",
        "C_RATE = NOMINAL_Q / 1.0  # [A]\n",
        "T = 300  # K"
      ]
    },
    {
      "cell_type": "markdown",
      "metadata": {
        "id": "Y_ZswmkOuK35"
      },
      "source": [
        "Now lets discharge the battery per 1h\n",
        "\n"
      ]
    },
    {
      "cell_type": "code",
      "execution_count": null,
      "metadata": {
        "id": "nPtKyAYvuUH1"
      },
      "outputs": [],
      "source": [
        "# Lets use the default solver to compute the discharge curve\n",
        "solver = pybamm.CasadiSolver()\n",
        "n = 3601  # how many point to evaluate\n",
        "t_eval = np.linspace(0, 3600, n)  # [s] simulation time\n",
        "solution = solver.solve(\n",
        "    model, t_eval, inputs={\"Current function [A]\": C_RATE, \"Ambient temperature [K]\": T}\n",
        ")"
      ]
    },
    {
      "cell_type": "markdown",
      "metadata": {
        "id": "j47Ep1Jrw55r"
      },
      "source": [
        "Plotting the result."
      ]
    },
    {
      "cell_type": "code",
      "execution_count": null,
      "metadata": {
        "colab": {
          "base_uri": "https://localhost:8080/",
          "height": 424
        },
        "id": "P0qwzySkw_x9",
        "outputId": "d23667aa-3aaa-4ae0-9d0b-b66dfe37ed96"
      },
      "outputs": [],
      "source": [
        "time = solution[\"Time [h]\"].entries\n",
        "voltage = solution[\"Terminal voltage [V]\"].entries\n",
        "fig = plt.figure(figsize=(7, 3.5), dpi=120)\n",
        "\n",
        "with plt.style.context(\"seaborn-v0_8-notebook\"):\n",
        "    ax = fig.add_subplot(111)\n",
        "    ax.plot(time, voltage)\n",
        "    ax.set_xlabel(\"Time [h]\")\n",
        "    ax.set_ylabel(\"Terminal voltage [V]\")\n",
        "\n",
        "plt.show()"
      ]
    },
    {
      "cell_type": "markdown",
      "metadata": {
        "id": "mrmes8zUTjTH"
      },
      "source": [
        "## [Study 2] Effect of C-rate current on the discharge curve\n",
        "\n",
        "Here we will perform a parametric study computing the voltage profile at different C Rates."
      ]
    },
    {
      "cell_type": "code",
      "execution_count": null,
      "metadata": {
        "colab": {
          "base_uri": "https://localhost:8080/"
        },
        "id": "XY0kSg7DlfsB",
        "outputId": "e1330a78-ce21-47a4-c4d0-248af5bddf72"
      },
      "outputs": [],
      "source": [
        "C_RATES = [2, 1, 0.5]\n",
        "\n",
        "crate_result = pd.DataFrame(columns=[\"C-rare\", \"Time [h]\", \"Voltage [V]\"])\n",
        "\n",
        "for i, c_rate in enumerate(C_RATES):\n",
        "    t_eval = np.linspace(0, 3600 / c_rate, int(10000 * c_rate))\n",
        "    solution = solver.solve(\n",
        "        model,\n",
        "        t_eval,\n",
        "        inputs={\"Current function [A]\": C_RATE * c_rate, \"Ambient temperature [K]\": T},\n",
        "    )\n",
        "    crate_result.loc[i, \"C-rare\"] = c_rate\n",
        "    crate_result.loc[i, \"Time [h]\"] = solution[\"Time [h]\"].entries\n",
        "    crate_result.loc[i, \"Voltage [V]\"] = solution[\"Terminal voltage [V]\"].entries\n",
        "\n",
        "    print(\n",
        "        \"C ={:>4}: Discharged in {:>6.3g} h\".format(\n",
        "            c_rate, crate_result.loc[i, \"Time [h]\"].max()\n",
        "        )\n",
        "    )"
      ]
    },
    {
      "cell_type": "code",
      "execution_count": null,
      "metadata": {
        "colab": {
          "base_uri": "https://localhost:8080/",
          "height": 424
        },
        "id": "gG3hb0runrQ7",
        "outputId": "b4c5e5f7-5424-478e-d92a-86d7a3b423aa"
      },
      "outputs": [],
      "source": [
        "fig = plt.figure(figsize=(7, 3.5), dpi=120)\n",
        "\n",
        "with plt.style.context(\"seaborn-v0_8-notebook\"):\n",
        "    ax = fig.add_subplot(111)\n",
        "    for i, c_rate in enumerate(C_RATES):\n",
        "        ax.plot(\n",
        "            crate_result.loc[i, \"Time [h]\"],\n",
        "            crate_result.loc[i, \"Voltage [V]\"],\n",
        "            label=f\"{c_rate:1.1f} C\",\n",
        "        )\n",
        "    ax.set_xlabel(\"Time [h]\")\n",
        "    ax.set_ylabel(\"Terminal voltage [V]\")\n",
        "    ax.legend()\n",
        "\n",
        "plt.show()"
      ]
    },
    {
      "cell_type": "markdown",
      "metadata": {
        "id": "p19m5gpGoQAo"
      },
      "source": [
        "## [Study 3] Effect of the Temperature (T) on the discharge curve\n",
        "\n",
        "Here we will perform a parametric study computing the voltage profile at different Temperature."
      ]
    },
    {
      "cell_type": "code",
      "execution_count": null,
      "metadata": {
        "colab": {
          "base_uri": "https://localhost:8080/"
        },
        "id": "f-8QrOADoNGX",
        "outputId": "38315d8e-eaae-405e-f7eb-53307639c035"
      },
      "outputs": [],
      "source": [
        "T_test = [-30, 0, 30, 60]  # [C°]\n",
        "\n",
        "temeperature_result = pd.DataFrame(columns=[\"T [C°]\", \"Time [h]\", \"Voltage [V]\"])\n",
        "\n",
        "for i, temp in enumerate(T_test):\n",
        "    t_eval = np.linspace(0, 3600, 10000)\n",
        "    solution = solver.solve(\n",
        "        model,\n",
        "        t_eval,\n",
        "        inputs={\n",
        "            \"Current function [A]\": C_RATE,\n",
        "            \"Ambient temperature [K]\": 273.15 + temp,\n",
        "        },\n",
        "    )\n",
        "    temeperature_result.loc[i, \"T [C°]\"] = temp\n",
        "    temeperature_result.loc[i, \"Time [h]\"] = solution[\"Time [h]\"].entries\n",
        "    temeperature_result.loc[i, \"Voltage [V]\"] = solution[\"Terminal voltage [V]\"].entries\n",
        "\n",
        "    print(\n",
        "        \"T ={:>4} C°: Discharged in {:>6.3g} h\".format(\n",
        "            temp, temeperature_result.loc[i, \"Time [h]\"].max()\n",
        "        )\n",
        "    )"
      ]
    },
    {
      "cell_type": "code",
      "execution_count": null,
      "metadata": {
        "colab": {
          "base_uri": "https://localhost:8080/",
          "height": 424
        },
        "id": "cG5eP0ptqqlB",
        "outputId": "edca9fb5-343b-494b-940d-62d4ccd62555"
      },
      "outputs": [],
      "source": [
        "fig = plt.figure(figsize=(7, 3.5), dpi=120)\n",
        "\n",
        "with plt.style.context(\"seaborn-v0_8-notebook\"):\n",
        "    ax = fig.add_subplot(111)\n",
        "    for i, temp in enumerate(T_test):\n",
        "        ax.plot(\n",
        "            temeperature_result.loc[i, \"Time [h]\"],\n",
        "            temeperature_result.loc[i, \"Voltage [V]\"],\n",
        "            label=f\"$T_{{amb}}=${temp:>3.0f} C°\",\n",
        "        )\n",
        "    ax.set_xlabel(\"Time [h]\")\n",
        "    ax.set_ylabel(\"Terminal voltage [V]\")\n",
        "    ax.legend()\n",
        "\n",
        "plt.show()"
      ]
    },
    {
      "cell_type": "markdown",
      "metadata": {
        "id": "QzXps5wz0gsj"
      },
      "source": [
        "## [Study 4] Discharge-Charge voltage profile\n",
        "\n",
        "We will perform an experiment where we discharge and charge the battery with C/2 constant current two times."
      ]
    },
    {
      "cell_type": "markdown",
      "metadata": {
        "id": "SK1G-Xyj_q0g"
      },
      "source": [
        "<div class=\"alert alert-block alert-info\">\n",
        "<b>NOTE: </b>\n",
        "\n",
        "During the charge, the battery management system usually charges with C/3 current until 4.1 V; then, it maintains a constant voltage and continue to charge until the current goes below C/20 to ensure a full recharge.\n",
        "</div>"
      ]
    },
    {
      "cell_type": "code",
      "execution_count": null,
      "metadata": {
        "colab": {
          "base_uri": "https://localhost:8080/"
        },
        "id": "UazIlVtz0kRT",
        "outputId": "67f73fc0-7843-48f0-ab98-bff383454219"
      },
      "outputs": [],
      "source": [
        "model_exp = pybamm.lithium_ion.DFN()\n",
        "cut_off_l = param[\"Lower voltage cut-off [V]\"]\n",
        "cut_off_u = param[\"Upper voltage cut-off [V]\"]\n",
        "experiment = pybamm.Experiment(\n",
        "    [\n",
        "        (\n",
        "            f\"Discharge at C/2 for 2 hours or until {cut_off_l} V\",\n",
        "            f\"Charge at C/2 for 2.1 hours or until {cut_off_u} V\",\n",
        "            f\"Discharge at C/2 for 2 hours or until {cut_off_l} V\",\n",
        "            f\"Charge at C/2 for 2.1 hours or until {cut_off_u} V\",\n",
        "        ),\n",
        "    ]\n",
        ")\n",
        "sim = pybamm.Simulation(\n",
        "    model_exp, experiment=experiment, parameter_values=pybamm.ParameterValues(chemistry)\n",
        ")\n",
        "solution = sim.solve()"
      ]
    },
    {
      "cell_type": "markdown",
      "metadata": {
        "id": "MGAXTpIH_q0h"
      },
      "source": [
        "We define a function to compute the energy, i.e. the area under the discharge curve."
      ]
    },
    {
      "cell_type": "code",
      "execution_count": null,
      "metadata": {
        "id": "2usqM2U0C8WS"
      },
      "outputs": [],
      "source": [
        "def get_energy(v: np.ndarray, i: Union[np.ndarray, float], t: np.ndarray) -> float:\n",
        "    \"\"\"Compute the energy as the integral of the discharge curve.\n",
        "\n",
        "    Args:\n",
        "        v (np.ndarray): [V] Voltage array.\n",
        "        i (np.ndarray | float): [A] Current (constant or array).\n",
        "        t (np.ndarray): [s] Time arra.\n",
        "\n",
        "    Returns:\n",
        "        float: Energy in J.\n",
        "    \"\"\"\n",
        "    return trapezoid(v * i, x=t)"
      ]
    },
    {
      "cell_type": "code",
      "execution_count": null,
      "metadata": {
        "id": "lnrmojmZDRNH"
      },
      "outputs": [],
      "source": [
        "time = solution[\"Time [h]\"].entries\n",
        "voltage = solution[\"Terminal voltage [V]\"].entries\n",
        "i_change_0 = np.where(voltage == voltage[(time > 3.5) & (time <= 6.8)].max())[0][0]\n",
        "i_change_1 = np.where(voltage == voltage[(time > 3.5) & (time <= 6.8)].min())[0][-1]\n",
        "t_change_0 = time[i_change_0]\n",
        "t_change_1 = time[i_change_1]\n",
        "time_discharge = time[(time > t_change_0) & (time <= t_change_1)]\n",
        "voltage_discharge = voltage[(time > t_change_0) & (time <= t_change_1)]\n",
        "time_charge = time[time >= t_change_1]\n",
        "voltage_charge = voltage[time >= t_change_1]"
      ]
    },
    {
      "cell_type": "markdown",
      "metadata": {
        "id": "n2zkZ9nT_q0i"
      },
      "source": [
        "We plot the experiment and compare the second cycle's charge and discharge voltage profile (because it is far from the initial condition)."
      ]
    },
    {
      "cell_type": "code",
      "execution_count": null,
      "metadata": {
        "colab": {
          "base_uri": "https://localhost:8080/",
          "height": 470
        },
        "id": "uDJF8Q2HDz6f",
        "outputId": "c69ebae3-df03-4410-877c-9430621452c5"
      },
      "outputs": [],
      "source": [
        "fig = plt.figure(figsize=(10, 4), dpi=120)\n",
        "\n",
        "with plt.style.context(\"seaborn-v0_8-notebook\"):\n",
        "    ax1 = fig.add_subplot(121)\n",
        "    ax2 = fig.add_subplot(122)\n",
        "    ax1.plot(\n",
        "        time[time <= t_change_0],\n",
        "        voltage[time <= t_change_0],\n",
        "        \"--k\",\n",
        "        label=\"first cycle\",\n",
        "    )\n",
        "    ax1.plot(\n",
        "        time[time >= t_change_0],\n",
        "        voltage[time >= t_change_0],\n",
        "        \"-k\",\n",
        "        label=\"second cycle\",\n",
        "    )\n",
        "    ax2.plot(time_discharge - t_change_0, voltage_discharge, label=\"discharge\")\n",
        "    ax2.plot(time_charge[::-1] - t_change_1, voltage_charge, label=\"charge\")\n",
        "    for ax in [ax1, ax2]:\n",
        "        ax.set_xlabel(\"Time [h]\")\n",
        "        ax.set_ylabel(\"Terminal voltage [V]\")\n",
        "        ax.legend()\n",
        "plt.show()"
      ]
    },
    {
      "cell_type": "markdown",
      "metadata": {
        "id": "1fnK0JZy_q0k"
      },
      "source": [
        "We can also see in detail what happens with an animation."
      ]
    },
    {
      "cell_type": "code",
      "execution_count": null,
      "metadata": {
        "colab": {
          "base_uri": "https://localhost:8080/",
          "height": 755,
          "referenced_widgets": [
            "d92f2caa073445b6be4acb42d5b50656",
            "46e40ef938b743709c6a1952744c73e5",
            "5a9c44a3c43543a3af2d3193fad5a919",
            "f47ef284023c41118994858789df0fa7",
            "b83f0eda24d5473dab3d8ee3b48a63c9",
            "18fb13ab2d2d405e9bb28b3da17f883f",
            "761e47e7d2524bbaa701daf0c9526d5a"
          ]
        },
        "id": "bRH50Xw7_q0l",
        "outputId": "adba3a70-509e-4dc8-9e0a-49920de62285"
      },
      "outputs": [],
      "source": [
        "sim.plot()"
      ]
    },
    {
      "cell_type": "markdown",
      "metadata": {
        "id": "19wS3wMH_q0l"
      },
      "source": [
        "We can also compute LIB storage efficiency by computing the energy used to charge it and the energy supply during the discharge."
      ]
    },
    {
      "cell_type": "code",
      "execution_count": null,
      "metadata": {
        "colab": {
          "base_uri": "https://localhost:8080/"
        },
        "id": "OLKAgiAf6wBf",
        "outputId": "4924549c-7620-4a95-a9c4-8a3f03c57c8f"
      },
      "outputs": [],
      "source": [
        "energy_discharge = get_energy(\n",
        "    voltage_discharge, C_RATE / 2, time_discharge\n",
        ")  # Discharge Energy [J]\n",
        "energy_charge = get_energy(voltage_charge, C_RATE / 2, time_charge)  # Charge Energy [J]\n",
        "\n",
        "eta = energy_discharge / energy_charge\n",
        "\n",
        "print(f\"Battery efficiency: {eta*100:1.2f} %\")"
      ]
    },
    {
      "cell_type": "markdown",
      "metadata": {
        "id": "i9zizyx9JNu5"
      },
      "source": [
        "## [Study 5] Compute the Ragone plot\n",
        "\n",
        "The lessons show that the Ragone plot is a crucial LIB characteristic.\n",
        "We have to perform a discharge experiment at different C-rates to obtain it.\n",
        "This may require days (0.01 C = ~100 h for fully discharging the battery) in a lab experiment."
      ]
    },
    {
      "cell_type": "code",
      "execution_count": null,
      "metadata": {
        "colab": {
          "base_uri": "https://localhost:8080/"
        },
        "id": "SSPYUUBqJUx-",
        "outputId": "22a24506-9347-4a8a-eaa0-bc6436311e5a"
      },
      "outputs": [],
      "source": [
        "C_RATES = [3, 2.5, 2, 1.5, 1, 0.75, 0.5, 0.25, 0.1, 0.05, 0.01]\n",
        "\n",
        "crate_result2 = pd.DataFrame(columns=[\"C-rare\", \"Time [h]\", \"Voltage [V]\"])\n",
        "\n",
        "for i, c_rate in enumerate(C_RATES):\n",
        "    t_eval = np.linspace(0, 4000 / c_rate, max(500, int(20000 * c_rate)))\n",
        "    solution = solver.solve(\n",
        "        model,\n",
        "        t_eval,\n",
        "        inputs={\"Current function [A]\": C_RATE * c_rate, \"Ambient temperature [K]\": T},\n",
        "    )\n",
        "    crate_result2.loc[i, \"C-rare\"] = c_rate\n",
        "    crate_result2.loc[i, \"Time [h]\"] = solution[\"Time [h]\"].entries\n",
        "    crate_result2.loc[i, \"Voltage [V]\"] = solution[\"Terminal voltage [V]\"].entries\n",
        "\n",
        "    print(\n",
        "        \"C ={:>4}: Discharged in {:>6.3g} h\".format(\n",
        "            c_rate, crate_result2.loc[i, \"Time [h]\"].max()\n",
        "        )\n",
        "    )"
      ]
    },
    {
      "cell_type": "code",
      "execution_count": null,
      "metadata": {
        "id": "DvmLo5maX6hG"
      },
      "outputs": [],
      "source": [
        "def get_cell_volume_and_mass(param: dict) -> Tuple[float, float]:\n",
        "    \"\"\"Compute the cell volume and mass from the model prameters.\n",
        "\n",
        "    Args:\n",
        "        param (dict): Model prameters.\n",
        "\n",
        "    Returns:\n",
        "        tuple: containing:\n",
        "            -  float: [m^3] cell volume.\n",
        "            -  float: [kg] cell mass.\n",
        "    \"\"\"\n",
        "    vol = param[\"Cell volume [m3]\"]\n",
        "    t = 0\n",
        "    rho = 0\n",
        "    componets = [\n",
        "        \"Negative electrode\",\n",
        "        \"Negative current collector\",\n",
        "        \"Positive electrode\",\n",
        "        \"Positive current collector\",\n",
        "        \"Separator\",\n",
        "    ]\n",
        "    for comp in componets:\n",
        "        rho_ = param[comp + \" density [kg.m-3]\"]\n",
        "        t_ = param[comp + \" thickness [m]\"]\n",
        "        rho += rho_ * t_\n",
        "        t += t_\n",
        "    rho /= t\n",
        "    mass = rho * vol\n",
        "    return vol, mass"
      ]
    },
    {
      "cell_type": "markdown",
      "metadata": {
        "id": "wYC6gfoR_q0q"
      },
      "source": [
        "We compute the energy and the power for each simulation at diffente C-rate."
      ]
    },
    {
      "cell_type": "code",
      "execution_count": null,
      "metadata": {
        "id": "ACfWqoW9_q0r"
      },
      "outputs": [],
      "source": [
        "CELL_VOL, CELL_MASS = get_cell_volume_and_mass(param)\n",
        "\n",
        "ragone_result = pd.DataFrame(\n",
        "    columns=[\"C-rare\", \"Specific Power [W/kg]\", \"Specific Energy [Wh/kg]\"]\n",
        ")\n",
        "\n",
        "for i, (c_rate, t, v) in enumerate(\n",
        "    zip(C_RATES, crate_result2[\"Time [h]\"], crate_result2[\"Voltage [V]\"])\n",
        "):\n",
        "    energy = get_energy(v, c_rate * C_RATE, t * 3600)  # [J]\n",
        "    power = energy / (t.max() * 3600)  # [W]\n",
        "    energy = energy / 3600  # [Wh]\n",
        "    ragone_result.loc[i, \"C-rare\"] = c_rate\n",
        "    ragone_result.loc[i, \"Specific Energy [Wh/kg]\"] = energy / CELL_MASS\n",
        "    ragone_result.loc[i, \"Specific Power [W/kg]\"] = power / CELL_MASS"
      ]
    },
    {
      "cell_type": "code",
      "execution_count": null,
      "metadata": {
        "colab": {
          "base_uri": "https://localhost:8080/",
          "height": 394
        },
        "id": "LLki1Tq_aOPI",
        "outputId": "28c80e8d-9945-4873-d16a-48a4b6d3e0d4"
      },
      "outputs": [],
      "source": [
        "ragone_result"
      ]
    },
    {
      "cell_type": "markdown",
      "metadata": {
        "id": "o1xW_gqA_q0t"
      },
      "source": [
        "We define a new function that interpolates the specific power computed before. It will be useful later."
      ]
    },
    {
      "cell_type": "code",
      "execution_count": null,
      "metadata": {
        "id": "UkJM2YYRlCHr"
      },
      "outputs": [],
      "source": [
        "# interpolation function will be useful later\n",
        "f_Crate_SpecificPower = interp1d(\n",
        "    ragone_result[\"C-rare\"], ragone_result[\"Specific Power [W/kg]\"]\n",
        ")"
      ]
    },
    {
      "cell_type": "markdown",
      "metadata": {
        "id": "M8rolgNV_q0u"
      },
      "source": [
        "plotting the **Ragone Plot**"
      ]
    },
    {
      "cell_type": "code",
      "execution_count": null,
      "metadata": {
        "colab": {
          "base_uri": "https://localhost:8080/",
          "height": 431
        },
        "id": "VFEw0Pg6etv8",
        "outputId": "9f0b95cc-8c92-4e78-8704-113bcd2482b4"
      },
      "outputs": [],
      "source": [
        "fig = plt.figure(figsize=(7, 3.5), dpi=120)\n",
        "\n",
        "with plt.style.context(\"seaborn-v0_8-notebook\"):\n",
        "    ax = fig.add_subplot(111)\n",
        "    for i, temp in enumerate(T_test):\n",
        "        ax.loglog(\n",
        "            ragone_result[\"Specific Power [W/kg]\"],\n",
        "            ragone_result[\"Specific Energy [Wh/kg]\"],\n",
        "        )\n",
        "    ax.set_xlabel(\"Specific Power [W/kg]\")\n",
        "    ax.set_ylabel(\"Specific Energy [Wh/kg]\")\n",
        "    ax.grid(True, which=\"both\", ls=\"-\")\n",
        "\n",
        "plt.show()"
      ]
    },
    {
      "cell_type": "markdown",
      "metadata": {
        "id": "-ga8zhqfNV4C"
      },
      "source": [
        "## [Study 6] Driving Cycles\n",
        "\n",
        "Another important application of the model is to test virtually (*in silico*) the battery performance during the operating condition in an Electric car.\n",
        "There are many standardized diving cycles. We are going to download the [Urban Dynamometer Driving Schedule (UDDS)](https://www.epa.gov/vehicle-and-fuel-emissions-testing/dynamometer-drive-schedules).\n",
        "\n",
        "![UDDS](https://www.epa.gov/sites/default/files/2015-10/uddsdds.gif)\n",
        "\n"
      ]
    },
    {
      "cell_type": "code",
      "execution_count": null,
      "metadata": {
        "colab": {
          "base_uri": "https://localhost:8080/"
        },
        "id": "10Dv3ptuNXZd",
        "outputId": "00970309-ec77-4ed2-e15b-d7afc534f667"
      },
      "outputs": [],
      "source": [
        "! wget https://raw.githubusercontent.com/pybamm-team/PyBaMM/838422665fb4d8424abcb441f6123ab354cc1a63/pybamm/input/drive_cycles/UDDS.csv"
      ]
    },
    {
      "cell_type": "code",
      "execution_count": null,
      "metadata": {
        "id": "nnnAatPzNe4Z"
      },
      "outputs": [],
      "source": [
        "# Import drive cycle from file\n",
        "drive_cycle = pd.read_csv(\"UDDS.csv\", comment=\"#\", header=None).to_numpy()\n",
        "\n",
        "# Create interpolant\n",
        "\n",
        "current_interpolant = pybamm.Interpolant(drive_cycle[:, 0], drive_cycle[:, 1], pybamm.t)\n",
        "\n",
        "# Set drive cycle\n",
        "param[\"Current function [A]\"] = current_interpolant\n",
        "param[\"Ambient temperature [K]\"] = T"
      ]
    },
    {
      "cell_type": "markdown",
      "metadata": {
        "id": "7X4f3Oroa4ts"
      },
      "source": [
        "Run experiment"
      ]
    },
    {
      "cell_type": "code",
      "execution_count": null,
      "metadata": {
        "id": "-U5-ovzBa4XR"
      },
      "outputs": [],
      "source": [
        "model = pybamm.lithium_ion.DFN()\n",
        "sim = pybamm.Simulation(model, parameter_values=param)\n",
        "solution = sim.solve()"
      ]
    },
    {
      "cell_type": "markdown",
      "metadata": {
        "id": "dUgMqyZkQaWv"
      },
      "source": [
        "Plotting"
      ]
    },
    {
      "cell_type": "code",
      "execution_count": null,
      "metadata": {
        "colab": {
          "base_uri": "https://localhost:8080/",
          "height": 932
        },
        "id": "2Ziv1fsQQdGw",
        "outputId": "afcc992d-ecdf-44cd-cc38-8f13cf28d6fe"
      },
      "outputs": [],
      "source": [
        "fig = plt.figure(figsize=(10, 9), dpi=120)\n",
        "\n",
        "with plt.style.context(\"seaborn-v0_8-notebook\"):\n",
        "    ax = []\n",
        "    grid = fig.add_gridspec(2, 2)\n",
        "    for i in range(4):\n",
        "        ax.append(fig.add_subplot(grid[i]))\n",
        "    t = solution[\"Time [s]\"].entries\n",
        "    for i, key in enumerate([\"Current [A]\", \"Terminal voltage [V]\"]):\n",
        "        ax[i].plot(t, solution[key].entries)\n",
        "        ax[i].set_ylabel(key)\n",
        "    n_capacity = solution[\n",
        "        \"Negative particle surface concentration [mol.m-3]\"\n",
        "    ].entries.mean(axis=0)\n",
        "    n_capacity = n_capacity / n_capacity.max() * 100\n",
        "    ax[2].plot(t, n_capacity)\n",
        "    ax[2].set_ylabel(\"Negative electrode capacity [%]\")\n",
        "    p_capacity = solution[\n",
        "        \"Positive particle surface concentration [mol.m-3]\"\n",
        "    ].entries.mean(axis=0)\n",
        "    p_capacity = (p_capacity - p_capacity.min()) / p_capacity.min() * 100\n",
        "    ax[3].plot(t, p_capacity)\n",
        "    ax[3].set_ylabel(\"Positive electrode capacity [%]\")\n",
        "    for i in range(4):\n",
        "        ax[i].set_xlabel(\"Time [s]\")\n",
        "\n",
        "plt.show()"
      ]
    },
    {
      "cell_type": "markdown",
      "metadata": {
        "id": "HrJ-uD7YW996"
      },
      "source": [
        "Let's plot others spazial quantities"
      ]
    },
    {
      "cell_type": "code",
      "execution_count": null,
      "metadata": {
        "colab": {
          "base_uri": "https://localhost:8080/",
          "height": 755,
          "referenced_widgets": [
            "78338ad61e904a5b9097a3bd3681e57c",
            "1389e6fce70341f19c47773192ccf856",
            "e9465a4239d547b2ac449583bc1fb4fb",
            "6b1c431a64d14a6f8d4894e33001665d",
            "0ff27339a49a4b1da493b88775e1a4cc",
            "128f630466f24d19ac32278124a6aa39",
            "bf4129d323d24e25bb5508472bcc684c"
          ]
        },
        "id": "l6hJXrAnOg4B",
        "outputId": "13c02da9-fb3f-42d0-bf89-145d323b60f3"
      },
      "outputs": [],
      "source": [
        "solution.plot()"
      ]
    },
    {
      "cell_type": "markdown",
      "metadata": {
        "id": "nCa9WKwqU_r5"
      },
      "source": [
        "## Modelling SEI growth"
      ]
    },
    {
      "cell_type": "markdown",
      "metadata": {
        "id": "loX7q1lTU_r6"
      },
      "source": [
        "In this part of the notebook, we are going to implement in `pyBAMM` the Solid Electrolyte Interface (SEI) model that we saw in class.\n",
        "\n",
        "The governing equation of the moving-boundary electrolyte diffusion-limited model are:\n",
        "for the concentration of electrolyte in the SEI:\n",
        "$$\n",
        "\\frac{\\partial c}{\\partial t} = \\frac{\\hat{V} R}{L} \\xi \\frac{\\partial c}{\\partial \\xi} + \\frac{1}{L^2} \\frac{\\partial}{\\partial \\xi} \\left( \\dfrac{\\varepsilon}{\\tau} D(c) \\frac{\\partial c}{\\partial \\xi}\\right)\n",
        "$$\n",
        "and for the evolution of the thickness of the SEI:\n",
        "$$\n",
        "\\frac{d L}{d t} = \\hat{V} R\n",
        "$$\n",
        "where the reaction is defined as\n",
        "$$\n",
        "R = k c|_{x=0}\n",
        "$$\n",
        "\n",
        "Here, $t$ is the time, $N$ is the solvent flux, $D(c)$ is the solvent diffusivity (a function of the solvent concentration), $k$ is the reaction rate constant, $\\hat{V}$ is the partial molar volume of the reaction products, and $R$ is the SEI growth reaction.\n",
        "\n",
        "The boundary conditions are\n",
        "$$\n",
        "\\frac{\\partial c}{\\partial \\xi}\\lvert_{x=0} = j_{n, \\sigma} = - R, \\quad c\\lvert_{x=L} = c_{\\infty},\n",
        "$$\n",
        "We also assume that the concentration of solvent within the SEI is initially uniform and equal to the bulk electrolyte solvent concentration, so that the initial condition is\n",
        "$$\n",
        "c|_{t=0} = c_{\\infty}\n",
        "$$\n",
        "$$\n",
        "L(t=0) = L_0\n",
        "$$\n"
      ]
    },
    {
      "cell_type": "markdown",
      "metadata": {
        "id": "GC3Qxrz4U_r7"
      },
      "source": [
        "### Model object"
      ]
    },
    {
      "cell_type": "code",
      "execution_count": null,
      "metadata": {
        "id": "LTzb0cDxU_r9"
      },
      "outputs": [],
      "source": [
        "class SimpleSEI(pybamm.BaseModel):\n",
        "    def __init__(self):\n",
        "        super().__init__()\n",
        "        self.set_variables()\n",
        "        self.set_governing_eqs()\n",
        "        self.set_boudary_conditions()\n",
        "        self.set_initial_conditions()\n",
        "\n",
        "    def set_variables(self):\n",
        "        xi = pybamm.SpatialVariable(\"xi\", domain=\"SEI layer\", coord_sys=\"cartesian\")\n",
        "        c = pybamm.Variable(\"Solvent concentration [mol.m-3]\", domain=\"SEI layer\")\n",
        "        L = pybamm.Variable(\"SEI thickness [m]\")\n",
        "        self.variables.update(\n",
        "            {\n",
        "                \"xi\": xi,\n",
        "                \"Solvent concentration [mol.m-3]\": c,\n",
        "                \"SEI thickness [m]\": L,\n",
        "            }\n",
        "        )\n",
        "\n",
        "    def get_parameters(self):\n",
        "        k = pybamm.Parameter(\"Reaction rate constant [m.s-1]\")\n",
        "        L_0 = pybamm.Parameter(\"Initial thickness [m]\")\n",
        "        V_hat = pybamm.Parameter(\"Partial molar volume [m3.mol-1]\")\n",
        "        c_inf = pybamm.Parameter(\"Bulk electrolyte solvent concentration [mol.m-3]\")\n",
        "        return k, L_0, V_hat, c_inf\n",
        "\n",
        "    def D(self, c):\n",
        "        return pybamm.FunctionParameter(\n",
        "            \"Diffusivity [m2.s-1]\", {\"Solvent concentration [mol.m-3]\": c}\n",
        "        )\n",
        "\n",
        "    def eps(self, xi):\n",
        "        return pybamm.FunctionParameter(\"Porosity\", {\"SEI Porosity\": xi})\n",
        "\n",
        "    def tau(self, xi):\n",
        "        return pybamm.FunctionParameter(\"Tortuosity\", {\"SEI Tortuosity\": xi})\n",
        "\n",
        "    def set_governing_eqs(self):\n",
        "        k, L_0, V_hat, c_inf = self.get_parameters()\n",
        "        xi = self.variables[\"xi\"]\n",
        "        c = self.variables[\"Solvent concentration [mol.m-3]\"]\n",
        "        L = self.variables[\"SEI thickness [m]\"]\n",
        "\n",
        "        # SEI reaction flux\n",
        "        R = k * pybamm.BoundaryValue(c, \"left\")\n",
        "\n",
        "        # solvent concentration equation\n",
        "        q = # HERE FLUX DEFINITION (SEE SLIDES)\n",
        "        dcdt = # HERE CONCENTRATION EQ.\n",
        "\n",
        "        # SEI thickness equation\n",
        "        dLdt =  # HERE SEI GROWTH EQ\n",
        "\n",
        "        self.variables.update(\n",
        "            {\n",
        "                \"SEI growth rate [m]\": dLdt,\n",
        "                \"Surface reaction rate concentration [mol.m-2.s-1]\": R,\n",
        "            }\n",
        "        )\n",
        "\n",
        "        self.rhs = {L: dLdt, c: dcdt}\n",
        "\n",
        "    def set_boudary_conditions(self):\n",
        "        k, L_0, V_hat, c_inf = self.get_parameters()\n",
        "        c = self.variables[\"Solvent concentration [mol.m-3]\"]\n",
        "        L = self.variables[\"SEI thickness [m]\"]\n",
        "        xi = self.variables[\"xi\"]\n",
        "        D_left = pybamm.BoundaryValue(self.D(c), \"left\")\n",
        "        eps_left = pybamm.BoundaryValue(self.eps(xi), \"left\")\n",
        "        tau_left = pybamm.BoundaryValue(self.tau(xi), \"left\")\n",
        "        # SEI reaction flux\n",
        "        R = k * pybamm.BoundaryValue(c, \"left\")\n",
        "        # Neumann\n",
        "        grad_c_left = R * L * tau_left / D_left / eps_left\n",
        "        # Dirichlet\n",
        "        c_right = c_inf\n",
        "        self.boundary_conditions = {\n",
        "            c: {\"left\": (grad_c_left, \"Neumann\"), \"right\": (c_right, \"Dirichlet\")}\n",
        "        }\n",
        "\n",
        "    def set_initial_conditions(self):\n",
        "        k, L_0, V_hat, c_inf = self.get_parameters()\n",
        "        c = self.variables[\"Solvent concentration [mol.m-3]\"]\n",
        "        L = self.variables[\"SEI thickness [m]\"]\n",
        "        c_init = c_inf\n",
        "        L_init = L_0\n",
        "        self.initial_conditions = {c: c_init, L: L_init}"
      ]
    },
    {
      "cell_type": "markdown",
      "metadata": {
        "id": "qH6vD60rU_r-"
      },
      "source": [
        "### Let's use the SEI model"
      ]
    },
    {
      "cell_type": "code",
      "execution_count": null,
      "metadata": {
        "id": "1FPMfYm8U_r_"
      },
      "outputs": [],
      "source": [
        "sei_model = SimpleSEI()  # noqa"
      ]
    },
    {
      "cell_type": "markdown",
      "metadata": {
        "id": "FTHq4XZTU_sA"
      },
      "source": [
        "Parameters"
      ]
    },
    {
      "cell_type": "code",
      "execution_count": null,
      "metadata": {
        "id": "oaS-WSURU_sB"
      },
      "outputs": [],
      "source": [
        "def diffusivity(cc):\n",
        "    return cc * 10 ** (-12)\n",
        "\n",
        "\n",
        "def eps(xi):\n",
        "    return 0.8\n",
        "\n",
        "\n",
        "def tau(xi):\n",
        "    return eps(xi) ** -0.5  # Bruggeman relation\n",
        "\n",
        "\n",
        "# parameter values (not physically based, for example only!)\n",
        "sei_param = pybamm.ParameterValues(\n",
        "    {\n",
        "        \"Reaction rate constant [m.s-1]\": 1e-6,\n",
        "        \"Initial thickness [m]\": 1e-6,\n",
        "        \"Partial molar volume [m3.mol-1]\": 10,\n",
        "        \"Bulk electrolyte solvent concentration [mol.m-3]\": 1,\n",
        "        \"Diffusivity [m2.s-1]\": diffusivity,\n",
        "        \"Tortuosity\": tau,\n",
        "        \"Porosity\": eps,\n",
        "    }\n",
        ")"
      ]
    },
    {
      "cell_type": "code",
      "execution_count": null,
      "metadata": {
        "id": "Xpv0shbbU_sC"
      },
      "outputs": [],
      "source": [
        "# define geometry\n",
        "xi = sei_model.variables[\"xi\"]\n",
        "\n",
        "geometry = pybamm.Geometry(\n",
        "    {\"SEI layer\": {xi: {\"min\": pybamm.Scalar(0), \"max\": pybamm.Scalar(1)}}}\n",
        ")"
      ]
    },
    {
      "cell_type": "code",
      "execution_count": null,
      "metadata": {
        "colab": {
          "base_uri": "https://localhost:8080/"
        },
        "id": "FrY0UaYeU_sC",
        "outputId": "b573f20b-7bcd-4c56-ea89-c0cd27feec55"
      },
      "outputs": [],
      "source": [
        "# process model and geometry\n",
        "sei_param.process_model(sei_model)\n",
        "sei_param.process_geometry(geometry)\n",
        "\n",
        "# mesh and discretise\n",
        "submesh_types = {\"SEI layer\": pybamm.Uniform1DSubMesh}\n",
        "var_pts = {xi: 100}\n",
        "mesh = pybamm.Mesh(geometry, submesh_types, var_pts)\n",
        "\n",
        "spatial_methods = {\"SEI layer\": pybamm.FiniteVolume()}\n",
        "disc = pybamm.Discretisation(mesh, spatial_methods)\n",
        "disc.process_model(sei_model)"
      ]
    },
    {
      "cell_type": "code",
      "execution_count": null,
      "metadata": {
        "id": "ccryLAdfU_sE"
      },
      "outputs": [],
      "source": [
        "# solve\n",
        "solver = pybamm.ScipySolver()\n",
        "t = [0, 100]  # solve for 100s\n",
        "solution = solver.solve(sei_model, t)\n",
        "\n",
        "# post-process output variables\n",
        "L_out = solution[\"SEI thickness [m]\"]\n",
        "c_out = solution[\"Solvent concentration [mol.m-3]\"]"
      ]
    },
    {
      "cell_type": "code",
      "execution_count": null,
      "metadata": {
        "colab": {
          "base_uri": "https://localhost:8080/",
          "height": 625,
          "referenced_widgets": [
            "1404ba348e8345d5ad43b688ad480896",
            "4b3ed604f46f4e389b8de33678355687",
            "2acba2ee143f4963a01c8141e63eea2d",
            "30c81bff24db4116b795ae48557c5099",
            "692b89a7aa0840629897006adcb81e3e",
            "f662a25972ec48f7a0743aa98f5872f8",
            "99203d5bbc594e5fb0c74414ab554b35"
          ]
        },
        "id": "vGgiAF5eU_sG",
        "outputId": "78aae3d0-2b3e-4c2b-bcfb-a891593f63b0"
      },
      "outputs": [],
      "source": [
        "L_0 = pybamm.Parameter(\"Initial thickness [m]\")\n",
        "L_0_eval = sei_param.evaluate(L_0)\n",
        "xi = np.linspace(0, 1, 100)  # dimensionless space\n",
        "\n",
        "\n",
        "def plot(t):\n",
        "    _, (ax1, ax2) = plt.subplots(1, 2, figsize=(10, 5))\n",
        "    ax1.plot(solution.t, L_out(solution.t) * 1e6)\n",
        "    ax1.plot(t, L_out(t) * 1e6, \"r.\")\n",
        "    ax1.set_ylabel(r\"SEI thickness [$\\mu$m]\")\n",
        "    ax1.set_xlabel(r\"t [s]\")\n",
        "\n",
        "    ax2.plot(xi * L_out(t) * 1e6, c_out(t, xi))\n",
        "    ax2.set_ylim(0, 1.1)\n",
        "    ax2.set_xlim(0, L_out(solution.t[-1]) * 1e6)\n",
        "    ax2.set_ylabel(\"Solvent concentration [mol.m-3]\")\n",
        "    ax2.set_xlabel(r\"x [$\\mu$m]\")\n",
        "\n",
        "    plt.tight_layout()\n",
        "    plt.show()\n",
        "\n",
        "\n",
        "import ipywidgets as widgets\n",
        "\n",
        "widgets.interact(\n",
        "    plot, t=widgets.FloatSlider(min=0, max=solution.t[-1], step=0.1, value=0)\n",
        ")"
      ]
    },
    {
      "cell_type": "markdown",
      "metadata": {
        "id": "HxP6dBnNU_sH"
      },
      "source": [
        "### Influences of SEI porosity"
      ]
    },
    {
      "cell_type": "code",
      "execution_count": null,
      "metadata": {
        "id": "UtogODspU_sI"
      },
      "outputs": [],
      "source": [
        "sei_model_2 = SimpleSEI()  # noqa"
      ]
    },
    {
      "cell_type": "code",
      "execution_count": null,
      "metadata": {
        "colab": {
          "base_uri": "https://localhost:8080/"
        },
        "id": "C6Iu6IykU_sI",
        "outputId": "ee31c3f9-7225-4923-f098-13589674b763"
      },
      "outputs": [],
      "source": [
        "def diffusivity(cc):\n",
        "    return cc * 10 ** (-12)\n",
        "\n",
        "\n",
        "def eps(xi):\n",
        "    return 0.4  # 1 / (1+np.exp(2-(xi)*10)) * 0.8\n",
        "\n",
        "\n",
        "def tau(xi):\n",
        "    return eps(xi) ** -0.5  # Bruggeman relation\n",
        "\n",
        "\n",
        "# parameter values (not physically based, for example only!)\n",
        "sei_param_2 = pybamm.ParameterValues(\n",
        "    {\n",
        "        \"Reaction rate constant [m.s-1]\": 1e-6,\n",
        "        \"Initial thickness [m]\": 1e-6,\n",
        "        \"Partial molar volume [m3.mol-1]\": 10,\n",
        "        \"Bulk electrolyte solvent concentration [mol.m-3]\": 1,\n",
        "        \"Diffusivity [m2.s-1]\": diffusivity,\n",
        "        \"Tortuosity\": tau,\n",
        "        \"Porosity\": eps,\n",
        "    }\n",
        ")\n",
        "\n",
        "# define geometry\n",
        "xi_2 = sei_model_2.variables[\"xi\"]\n",
        "\n",
        "geometry = pybamm.Geometry(\n",
        "    {\"SEI layer\": {xi_2: {\"min\": pybamm.Scalar(0), \"max\": pybamm.Scalar(1)}}}\n",
        ")\n",
        "\n",
        "# process model and geometry\n",
        "sei_param_2.process_model(sei_model_2)\n",
        "sei_param_2.process_geometry(geometry)\n",
        "\n",
        "# mesh and discretise\n",
        "submesh_types = {\"SEI layer\": pybamm.Uniform1DSubMesh}\n",
        "var_pts = {xi_2: 100}\n",
        "mesh = pybamm.Mesh(geometry, submesh_types, var_pts)\n",
        "\n",
        "spatial_methods = {\"SEI layer\": pybamm.FiniteVolume()}\n",
        "disc = pybamm.Discretisation(mesh, spatial_methods)\n",
        "disc.process_model(sei_model_2)"
      ]
    },
    {
      "cell_type": "code",
      "execution_count": null,
      "metadata": {
        "id": "-2ydfbFgU_sJ"
      },
      "outputs": [],
      "source": [
        "# solve\n",
        "solver = pybamm.ScipySolver()\n",
        "t = [0, 100]  # solve for 100s\n",
        "solution_2 = solver.solve(sei_model_2, t)\n",
        "\n",
        "# post-process output variables\n",
        "L_out_2 = solution_2[\"SEI thickness [m]\"]\n",
        "c_out_2 = solution_2[\"Solvent concentration [mol.m-3]\"]"
      ]
    },
    {
      "cell_type": "code",
      "execution_count": null,
      "metadata": {
        "colab": {
          "base_uri": "https://localhost:8080/",
          "height": 551
        },
        "id": "-9Wr0FM_U_sK",
        "outputId": "6e526a20-de7d-4f87-ed12-e81357d99ff7"
      },
      "outputs": [],
      "source": [
        "fig, ax1 = plt.subplots(1, 1, figsize=(6, 6))\n",
        "with plt.style.context(\"seaborn-v0_8-notebook\"):\n",
        "    ax1.plot(solution.t, L_out(solution.t) * 1e6, label=r\"$\\varepsilon = 0.8$\")\n",
        "    ax1.plot(solution_2.t, L_out_2(solution_2.t) * 1e6, label=r\"$\\varepsilon = 0.4$\")\n",
        "    ax1.legend()\n",
        "    ax1.set_xlabel(r\"$t$ time [s]\")\n",
        "    ax1.set_ylabel(r\"$L$ SEI thickness $\\mathrm{[\\mu m]}$\")"
      ]
    },
    {
      "cell_type": "markdown",
      "metadata": {
        "id": "myLEGnjkU_sL"
      },
      "source": [
        "### PyBAMM SEI Model"
      ]
    },
    {
      "cell_type": "code",
      "execution_count": null,
      "metadata": {
        "id": "FYWtu0KtU_sL"
      },
      "outputs": [],
      "source": [
        "model1 = pybamm.lithium_ion.DFN()\n",
        "model2 = pybamm.lithium_ion.DFN(\n",
        "    {\"SEI\": \"solvent-diffusion limited\", \"particle mechanics\": \"swelling only\"}\n",
        ")"
      ]
    },
    {
      "cell_type": "code",
      "execution_count": null,
      "metadata": {
        "id": "ZeM0iMDgU_sM"
      },
      "outputs": [],
      "source": [
        "param = pybamm.ParameterValues(\"OKane2022\")\n",
        "var_pts = {\n",
        "    \"x_n\": 20,  # negative electrode\n",
        "    \"x_s\": 20,  # separator\n",
        "    \"x_p\": 20,  # positive electrode\n",
        "    \"r_n\": 26,  # negative particle\n",
        "    \"r_p\": 26,  # positive particle\n",
        "}"
      ]
    },
    {
      "cell_type": "code",
      "execution_count": null,
      "metadata": {
        "id": "MgANl0yiU_sN"
      },
      "outputs": [],
      "source": [
        "exp = pybamm.Experiment(\n",
        "    # [\"Hold at 4.2 V until C/100\"]+\n",
        "    [\n",
        "        \"Discharge at C/2 for 2 hours or until 2.5 V\",\n",
        "        \"Charge at C/2 for 2.1 hours or until  4.2 V\",\n",
        "    ]\n",
        "    * 5\n",
        ")"
      ]
    },
    {
      "cell_type": "code",
      "execution_count": null,
      "metadata": {
        "colab": {
          "base_uri": "https://localhost:8080/"
        },
        "id": "31ZItcEfU_sO",
        "outputId": "5400d139-b086-411f-9ee9-1df7fe56a938"
      },
      "outputs": [],
      "source": [
        "sim1 = pybamm.Simulation(\n",
        "    model1, parameter_values=param, experiment=exp, var_pts=var_pts\n",
        ")\n",
        "sol1 = sim1.solve(calc_esoh=False)\n",
        "sim2 = pybamm.Simulation(\n",
        "    model2, parameter_values=param, experiment=exp, var_pts=var_pts\n",
        ")\n",
        "sol2 = sim2.solve(calc_esoh=False)"
      ]
    },
    {
      "cell_type": "code",
      "execution_count": null,
      "metadata": {
        "id": "K5hAIbDXU_sP"
      },
      "outputs": [],
      "source": [
        "t1 = sol1[\"Time [s]\"].entries\n",
        "V1 = sol1[\"Voltage [V]\"].entries\n",
        "SEI1 = sol1[\"Total lithium [mol]\"].entries\n",
        "lithium_neg1 = sol1[\"Total lithium in negative electrode [mol]\"].entries\n",
        "lithium_pos1 = sol1[\"Total lithium in positive electrode [mol]\"].entries\n",
        "t2 = sol2[\"Time [s]\"].entries\n",
        "V2 = sol2[\"Voltage [V]\"].entries\n",
        "SEI2 = sol2[\"Total lithium [mol]\"].entries\n",
        "lithium_neg2 = sol2[\"Total lithium in negative electrode [mol]\"].entries\n",
        "lithium_pos2 = sol2[\"Total lithium in positive electrode [mol]\"].entries"
      ]
    },
    {
      "cell_type": "code",
      "execution_count": null,
      "metadata": {
        "colab": {
          "base_uri": "https://localhost:8080/",
          "height": 409
        },
        "id": "An1nRBxFU_sQ",
        "outputId": "505f2055-db7d-458a-964b-128a6d624348"
      },
      "outputs": [],
      "source": [
        "fig, (ax1, ax2) = plt.subplots(1, 2, figsize=(18, 4))\n",
        "with plt.style.context(\"seaborn-v0_8-notebook\"):\n",
        "    ax1.plot(t1, V1, label=\"without SEI model\")\n",
        "    ax1.plot(t2, V2, label=\"with SEI model\")\n",
        "    ax1.set_xlabel(\"Time [s]\")\n",
        "    ax1.set_ylabel(\"Voltage [V]\")\n",
        "    ax1.legend()\n",
        "    ax2.plot(t1, SEI1, label=\"without SEI model\")\n",
        "    ax2.plot(t2, SEI2, label=\"with SEI model\")\n",
        "    ax2.set_xlabel(\"Time [s]\")\n",
        "    ax2.set_ylabel(\"Total lithium [mol]\")\n",
        "    ax2.legend()\n",
        "plt.show()"
      ]
    },
    {
      "cell_type": "markdown",
      "metadata": {
        "id": "2Xdd9BC0RyT1"
      },
      "source": [
        "## [Exercise]: Is this LIB suitable for an Electric Vehicle (EV)?\n",
        "Here we propose a trivial example for computing the weight of the battery pack needed for an electric vehicle.\n",
        "\n",
        "To do so we have to:\n",
        "\n",
        "1. Compute the required power for a certain constant velocity\n",
        "2. Compute the Power needed from the battery, assuming an overall efficiency of $\\eta_{o}=0.63$ (not far from reality)\n",
        "3. Assuming a battery voltage of $300\\; \\mathrm{V}$ compute the current from the battery\n",
        "4. Using the data for the Ragone plot, compute the specific power and then compute the battery mass."
      ]
    },
    {
      "cell_type": "markdown",
      "metadata": {
        "id": "pJoajMuEY6tV"
      },
      "source": [
        "### Step 1\n",
        "\n",
        "At constant speed, the power developed by the wheels is the power needed to overcome air resistance and friction with the road.\n",
        "\n",
        "<img src=\"https://github.com/paolodeangelis/Energy_storage/raw/main/img/car.png\" width=\"600\"/>\n",
        "\n",
        "$ \\dot{W}_{road} = \\dot{W}_{rolling} + \\dot{W}_{air-friction} $\n",
        "\n",
        "**Rolling resistance**\n",
        "\n",
        "$ \\dot{W}_{rolling} = 9.8 M \\cdot C_{rr}\\cdot v $\n",
        "\n",
        "where:\n",
        "- $9.8 M$ $[\\mathrm{N}]$: is the normal force\n",
        "- $C_{rr}$ $[\\mathrm{-}]$: is the rolling restistace coefficient (for a car tires on asphalt is $ C_{rr}=0.03 $)\n",
        "- $ v$ $[\\mathrm{m/s}]$: is the car velocity\n",
        "\n",
        "**Air friction**\n",
        "\n",
        "$ \\dot{W}_{air-friction} = \\dfrac{1}{2} \\rho \\cdot C_{D}\\cdot A \\cdot v^2 $\n",
        "\n",
        "where:\n",
        "- $\\rho$ $[\\mathrm{kg/m^2}]$: is the ari density (average value is $1.2\\; \\mathrm{kg/m^2}$)\n",
        "- $C_{D}$ $[\\mathrm{-}]$: is the air friction coefficient (for a normal car $ C_{D}=0.29 $)\n",
        "- $A$ $[\\mathrm{m^2}]$: is the surface of the frontal area (use a common value of $2\\; \\mathrm{m^2}$\n",
        "- $ v$ $[\\mathrm{m/s}]$: is the car velocity"
      ]
    },
    {
      "cell_type": "code",
      "execution_count": null,
      "metadata": {
        "id": "9O_-_adEY8E-"
      },
      "outputs": [],
      "source": [
        "# data\n",
        "M_car = 2000  # [kg]\n",
        "speed = 130  # [km/h]\n",
        "C_rr = 0.03  # [-]\n",
        "rho = 1.2  # [kg/m^3]\n",
        "C_D = 0.29  # [-]\n",
        "A = 2  # [m^2]\n",
        "\n",
        "# speed conversion\n",
        "speed = speed / 3.6\n",
        "\n",
        "# compute power\n",
        "dotW_rolling = 9.8 * M_car * C_rr * speed\n",
        "dotW_air = 0.5 * rho * C_D * A * speed**2\n",
        "\n",
        "dotW_road = dotW_rolling + dotW_air\n",
        "\n",
        "print(f\"Power put on the road {dotW_road:1.2g} W\")"
      ]
    },
    {
      "cell_type": "markdown",
      "metadata": {
        "id": "xU5qSzBEayqi"
      },
      "source": [
        "### Spep 2\n",
        "\n",
        "The overall efficiency is defined as:\n",
        "\n",
        "$\\eta_o = \\dfrac{W_{road}}{W_{battery}} = 0.63$\n",
        "\n",
        "Thus:\n",
        "\n",
        "$\\dot{W}_{battery} = \\dfrac{\\dot{W}_{road}}{\\eta_o}$"
      ]
    },
    {
      "cell_type": "code",
      "execution_count": null,
      "metadata": {
        "id": "LUZiY20pax6b"
      },
      "outputs": [],
      "source": [
        "# data\n",
        "eta_o = 0.63  # [-]\n",
        "\n",
        "dotW_battery = dotW_road / eta_o\n",
        "\n",
        "print(f\"Power required from the battery {dotW_battery:1.2g} W\")"
      ]
    },
    {
      "cell_type": "markdown",
      "metadata": {
        "id": "VYI-eBvHb02J"
      },
      "source": [
        "### Step 3\n",
        "\n",
        "Compute the current (thus the C-rate) from the battery back, assuming a nominal voltage of $300\\,\\mathrm{V}$.\n",
        "\n",
        "We have to remember that a single cell has a nominal voltage of $3.63\\,\\mathrm{V}$. This means that the battery pack is built with many cells in series (increase total voltage) and in parallel (increase the total current)\n",
        "\n",
        "$\\dot{W}_{battery} = n_{series}\\cdot I_{cell}\\cdot  V ⟹ I_{cell} = \\dfrac{\\dot{W}_{battery}}{V\\cdot n_{series}}$\n",
        "\n",
        "where\n",
        "\n",
        "$n_{series} = \\mathrm{roud}\\left(\\dfrac{300}{3.63}\\right) = 83$"
      ]
    },
    {
      "cell_type": "code",
      "execution_count": null,
      "metadata": {
        "id": "6YFzgil3fQ_O"
      },
      "outputs": [],
      "source": [
        "# data\n",
        "V = 300  # [V]\n",
        "n_series = 83\n",
        "\n",
        "I_cell = dotW_battery / V / n_series\n",
        "\n",
        "print(f\"Current battery {I_cell:1.3g} A (= {I_cell/C_RATE:1.3g} C-Rate)\")"
      ]
    },
    {
      "cell_type": "markdown",
      "metadata": {
        "id": "5IhISw3Ilfjl"
      },
      "source": [
        "### Step 4\n",
        "\n",
        "From the Ragone plot data, we get the specific power. And from that, we compute the battery mass\n",
        "\n",
        "$M_{battery} = \\dfrac{\\dot{W}_{battery}}{\\dot{w}(I_{cell})}$"
      ]
    },
    {
      "cell_type": "code",
      "execution_count": null,
      "metadata": {
        "id": "iMPSoaJwlgPA"
      },
      "outputs": [],
      "source": [
        "specific_power = f_Crate_SpecificPower(I_cell)\n",
        "\n",
        "M_battery = dotW_battery / specific_power\n",
        "\n",
        "print(f\"The battery will weight {M_battery:1.3g} kg\")"
      ]
    }
  ],
  "metadata": {
    "accelerator": "TPU",
    "colab": {
      "gpuType": "V28",
      "name": "2-Hands-on_LIB_modelling.ipynb",
      "provenance": []
    },
    "kernelspec": {
      "display_name": "Python 3",
      "name": "python3"
    },
    "language_info": {
      "codemirror_mode": {
        "name": "ipython",
        "version": 3
      },
      "file_extension": ".py",
      "mimetype": "text/x-python",
      "name": "python",
      "nbconvert_exporter": "python",
      "pygments_lexer": "ipython3",
      "version": "3.11.5"
    },
    "orig_nbformat": 4,
    "widgets": {
      "application/vnd.jupyter.widget-state+json": {
        "0ff27339a49a4b1da493b88775e1a4cc": {
          "model_module": "@jupyter-widgets/base",
          "model_module_version": "1.2.0",
          "model_name": "LayoutModel",
          "state": {
            "_model_module": "@jupyter-widgets/base",
            "_model_module_version": "1.2.0",
            "_model_name": "LayoutModel",
            "_view_count": null,
            "_view_module": "@jupyter-widgets/base",
            "_view_module_version": "1.2.0",
            "_view_name": "LayoutView",
            "align_content": null,
            "align_items": null,
            "align_self": null,
            "border": null,
            "bottom": null,
            "display": null,
            "flex": null,
            "flex_flow": null,
            "grid_area": null,
            "grid_auto_columns": null,
            "grid_auto_flow": null,
            "grid_auto_rows": null,
            "grid_column": null,
            "grid_gap": null,
            "grid_row": null,
            "grid_template_areas": null,
            "grid_template_columns": null,
            "grid_template_rows": null,
            "height": null,
            "justify_content": null,
            "justify_items": null,
            "left": null,
            "margin": null,
            "max_height": null,
            "max_width": null,
            "min_height": null,
            "min_width": null,
            "object_fit": null,
            "object_position": null,
            "order": null,
            "overflow": null,
            "overflow_x": null,
            "overflow_y": null,
            "padding": null,
            "right": null,
            "top": null,
            "visibility": null,
            "width": null
          }
        },
        "128f630466f24d19ac32278124a6aa39": {
          "model_module": "@jupyter-widgets/controls",
          "model_module_version": "1.5.0",
          "model_name": "SliderStyleModel",
          "state": {
            "_model_module": "@jupyter-widgets/controls",
            "_model_module_version": "1.5.0",
            "_model_name": "SliderStyleModel",
            "_view_count": null,
            "_view_module": "@jupyter-widgets/base",
            "_view_module_version": "1.2.0",
            "_view_name": "StyleView",
            "description_width": "",
            "handle_color": null
          }
        },
        "1389e6fce70341f19c47773192ccf856": {
          "model_module": "@jupyter-widgets/controls",
          "model_module_version": "1.5.0",
          "model_name": "FloatSliderModel",
          "state": {
            "_dom_classes": [],
            "_model_module": "@jupyter-widgets/controls",
            "_model_module_version": "1.5.0",
            "_model_name": "FloatSliderModel",
            "_view_count": null,
            "_view_module": "@jupyter-widgets/controls",
            "_view_module_version": "1.5.0",
            "_view_name": "FloatSliderView",
            "continuous_update": true,
            "description": "t",
            "description_tooltip": null,
            "disabled": false,
            "layout": "IPY_MODEL_0ff27339a49a4b1da493b88775e1a4cc",
            "max": 1369,
            "min": 0,
            "orientation": "horizontal",
            "readout": true,
            "readout_format": ".2f",
            "step": 13.69,
            "style": "IPY_MODEL_128f630466f24d19ac32278124a6aa39",
            "value": 0
          }
        },
        "1404ba348e8345d5ad43b688ad480896": {
          "model_module": "@jupyter-widgets/controls",
          "model_module_version": "1.5.0",
          "model_name": "VBoxModel",
          "state": {
            "_dom_classes": [
              "widget-interact"
            ],
            "_model_module": "@jupyter-widgets/controls",
            "_model_module_version": "1.5.0",
            "_model_name": "VBoxModel",
            "_view_count": null,
            "_view_module": "@jupyter-widgets/controls",
            "_view_module_version": "1.5.0",
            "_view_name": "VBoxView",
            "box_style": "",
            "children": [
              "IPY_MODEL_4b3ed604f46f4e389b8de33678355687",
              "IPY_MODEL_2acba2ee143f4963a01c8141e63eea2d"
            ],
            "layout": "IPY_MODEL_30c81bff24db4116b795ae48557c5099"
          }
        },
        "18fb13ab2d2d405e9bb28b3da17f883f": {
          "model_module": "@jupyter-widgets/controls",
          "model_module_version": "1.5.0",
          "model_name": "SliderStyleModel",
          "state": {
            "_model_module": "@jupyter-widgets/controls",
            "_model_module_version": "1.5.0",
            "_model_name": "SliderStyleModel",
            "_view_count": null,
            "_view_module": "@jupyter-widgets/base",
            "_view_module_version": "1.2.0",
            "_view_name": "StyleView",
            "description_width": "",
            "handle_color": null
          }
        },
        "2acba2ee143f4963a01c8141e63eea2d": {
          "model_module": "@jupyter-widgets/output",
          "model_module_version": "1.0.0",
          "model_name": "OutputModel",
          "state": {
            "_dom_classes": [],
            "_model_module": "@jupyter-widgets/output",
            "_model_module_version": "1.0.0",
            "_model_name": "OutputModel",
            "_view_count": null,
            "_view_module": "@jupyter-widgets/output",
            "_view_module_version": "1.0.0",
            "_view_name": "OutputView",
            "layout": "IPY_MODEL_99203d5bbc594e5fb0c74414ab554b35",
            "msg_id": "",
            "outputs": [
              {
                "data": {
                  "image/png": "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\n",
                  "text/plain": "<Figure size 1000x500 with 2 Axes>"
                },
                "metadata": {},
                "output_type": "display_data"
              }
            ]
          }
        },
        "30c81bff24db4116b795ae48557c5099": {
          "model_module": "@jupyter-widgets/base",
          "model_module_version": "1.2.0",
          "model_name": "LayoutModel",
          "state": {
            "_model_module": "@jupyter-widgets/base",
            "_model_module_version": "1.2.0",
            "_model_name": "LayoutModel",
            "_view_count": null,
            "_view_module": "@jupyter-widgets/base",
            "_view_module_version": "1.2.0",
            "_view_name": "LayoutView",
            "align_content": null,
            "align_items": null,
            "align_self": null,
            "border": null,
            "bottom": null,
            "display": null,
            "flex": null,
            "flex_flow": null,
            "grid_area": null,
            "grid_auto_columns": null,
            "grid_auto_flow": null,
            "grid_auto_rows": null,
            "grid_column": null,
            "grid_gap": null,
            "grid_row": null,
            "grid_template_areas": null,
            "grid_template_columns": null,
            "grid_template_rows": null,
            "height": null,
            "justify_content": null,
            "justify_items": null,
            "left": null,
            "margin": null,
            "max_height": null,
            "max_width": null,
            "min_height": null,
            "min_width": null,
            "object_fit": null,
            "object_position": null,
            "order": null,
            "overflow": null,
            "overflow_x": null,
            "overflow_y": null,
            "padding": null,
            "right": null,
            "top": null,
            "visibility": null,
            "width": null
          }
        },
        "46e40ef938b743709c6a1952744c73e5": {
          "model_module": "@jupyter-widgets/controls",
          "model_module_version": "1.5.0",
          "model_name": "FloatSliderModel",
          "state": {
            "_dom_classes": [],
            "_model_module": "@jupyter-widgets/controls",
            "_model_module_version": "1.5.0",
            "_model_name": "FloatSliderModel",
            "_view_count": null,
            "_view_module": "@jupyter-widgets/controls",
            "_view_module_version": "1.5.0",
            "_view_name": "FloatSliderView",
            "continuous_update": true,
            "description": "t",
            "description_tooltip": null,
            "disabled": false,
            "layout": "IPY_MODEL_b83f0eda24d5473dab3d8ee3b48a63c9",
            "max": 7.187488020046338,
            "min": 0,
            "orientation": "horizontal",
            "readout": true,
            "readout_format": ".2f",
            "step": 0.07187488020046338,
            "style": "IPY_MODEL_18fb13ab2d2d405e9bb28b3da17f883f",
            "value": 0
          }
        },
        "4b3ed604f46f4e389b8de33678355687": {
          "model_module": "@jupyter-widgets/controls",
          "model_module_version": "1.5.0",
          "model_name": "FloatSliderModel",
          "state": {
            "_dom_classes": [],
            "_model_module": "@jupyter-widgets/controls",
            "_model_module_version": "1.5.0",
            "_model_name": "FloatSliderModel",
            "_view_count": null,
            "_view_module": "@jupyter-widgets/controls",
            "_view_module_version": "1.5.0",
            "_view_name": "FloatSliderView",
            "continuous_update": true,
            "description": "t",
            "description_tooltip": null,
            "disabled": false,
            "layout": "IPY_MODEL_692b89a7aa0840629897006adcb81e3e",
            "max": 100,
            "min": 0,
            "orientation": "horizontal",
            "readout": true,
            "readout_format": ".2f",
            "step": 0.1,
            "style": "IPY_MODEL_f662a25972ec48f7a0743aa98f5872f8",
            "value": 100
          }
        },
        "5a9c44a3c43543a3af2d3193fad5a919": {
          "model_module": "@jupyter-widgets/output",
          "model_module_version": "1.0.0",
          "model_name": "OutputModel",
          "state": {
            "_dom_classes": [],
            "_model_module": "@jupyter-widgets/output",
            "_model_module_version": "1.0.0",
            "_model_name": "OutputModel",
            "_view_count": null,
            "_view_module": "@jupyter-widgets/output",
            "_view_module_version": "1.0.0",
            "_view_name": "OutputView",
            "layout": "IPY_MODEL_761e47e7d2524bbaa701daf0c9526d5a",
            "msg_id": "",
            "outputs": [
              {
                "data": {
                  "image/png": "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\n",
                  "text/plain": "<Figure size 1500x700 with 8 Axes>"
                },
                "metadata": {},
                "output_type": "display_data"
              }
            ]
          }
        },
        "692b89a7aa0840629897006adcb81e3e": {
          "model_module": "@jupyter-widgets/base",
          "model_module_version": "1.2.0",
          "model_name": "LayoutModel",
          "state": {
            "_model_module": "@jupyter-widgets/base",
            "_model_module_version": "1.2.0",
            "_model_name": "LayoutModel",
            "_view_count": null,
            "_view_module": "@jupyter-widgets/base",
            "_view_module_version": "1.2.0",
            "_view_name": "LayoutView",
            "align_content": null,
            "align_items": null,
            "align_self": null,
            "border": null,
            "bottom": null,
            "display": null,
            "flex": null,
            "flex_flow": null,
            "grid_area": null,
            "grid_auto_columns": null,
            "grid_auto_flow": null,
            "grid_auto_rows": null,
            "grid_column": null,
            "grid_gap": null,
            "grid_row": null,
            "grid_template_areas": null,
            "grid_template_columns": null,
            "grid_template_rows": null,
            "height": null,
            "justify_content": null,
            "justify_items": null,
            "left": null,
            "margin": null,
            "max_height": null,
            "max_width": null,
            "min_height": null,
            "min_width": null,
            "object_fit": null,
            "object_position": null,
            "order": null,
            "overflow": null,
            "overflow_x": null,
            "overflow_y": null,
            "padding": null,
            "right": null,
            "top": null,
            "visibility": null,
            "width": null
          }
        },
        "6b1c431a64d14a6f8d4894e33001665d": {
          "model_module": "@jupyter-widgets/base",
          "model_module_version": "1.2.0",
          "model_name": "LayoutModel",
          "state": {
            "_model_module": "@jupyter-widgets/base",
            "_model_module_version": "1.2.0",
            "_model_name": "LayoutModel",
            "_view_count": null,
            "_view_module": "@jupyter-widgets/base",
            "_view_module_version": "1.2.0",
            "_view_name": "LayoutView",
            "align_content": null,
            "align_items": null,
            "align_self": null,
            "border": null,
            "bottom": null,
            "display": null,
            "flex": null,
            "flex_flow": null,
            "grid_area": null,
            "grid_auto_columns": null,
            "grid_auto_flow": null,
            "grid_auto_rows": null,
            "grid_column": null,
            "grid_gap": null,
            "grid_row": null,
            "grid_template_areas": null,
            "grid_template_columns": null,
            "grid_template_rows": null,
            "height": null,
            "justify_content": null,
            "justify_items": null,
            "left": null,
            "margin": null,
            "max_height": null,
            "max_width": null,
            "min_height": null,
            "min_width": null,
            "object_fit": null,
            "object_position": null,
            "order": null,
            "overflow": null,
            "overflow_x": null,
            "overflow_y": null,
            "padding": null,
            "right": null,
            "top": null,
            "visibility": null,
            "width": null
          }
        },
        "761e47e7d2524bbaa701daf0c9526d5a": {
          "model_module": "@jupyter-widgets/base",
          "model_module_version": "1.2.0",
          "model_name": "LayoutModel",
          "state": {
            "_model_module": "@jupyter-widgets/base",
            "_model_module_version": "1.2.0",
            "_model_name": "LayoutModel",
            "_view_count": null,
            "_view_module": "@jupyter-widgets/base",
            "_view_module_version": "1.2.0",
            "_view_name": "LayoutView",
            "align_content": null,
            "align_items": null,
            "align_self": null,
            "border": null,
            "bottom": null,
            "display": null,
            "flex": null,
            "flex_flow": null,
            "grid_area": null,
            "grid_auto_columns": null,
            "grid_auto_flow": null,
            "grid_auto_rows": null,
            "grid_column": null,
            "grid_gap": null,
            "grid_row": null,
            "grid_template_areas": null,
            "grid_template_columns": null,
            "grid_template_rows": null,
            "height": null,
            "justify_content": null,
            "justify_items": null,
            "left": null,
            "margin": null,
            "max_height": null,
            "max_width": null,
            "min_height": null,
            "min_width": null,
            "object_fit": null,
            "object_position": null,
            "order": null,
            "overflow": null,
            "overflow_x": null,
            "overflow_y": null,
            "padding": null,
            "right": null,
            "top": null,
            "visibility": null,
            "width": null
          }
        },
        "78338ad61e904a5b9097a3bd3681e57c": {
          "model_module": "@jupyter-widgets/controls",
          "model_module_version": "1.5.0",
          "model_name": "VBoxModel",
          "state": {
            "_dom_classes": [
              "widget-interact"
            ],
            "_model_module": "@jupyter-widgets/controls",
            "_model_module_version": "1.5.0",
            "_model_name": "VBoxModel",
            "_view_count": null,
            "_view_module": "@jupyter-widgets/controls",
            "_view_module_version": "1.5.0",
            "_view_name": "VBoxView",
            "box_style": "",
            "children": [
              "IPY_MODEL_1389e6fce70341f19c47773192ccf856",
              "IPY_MODEL_e9465a4239d547b2ac449583bc1fb4fb"
            ],
            "layout": "IPY_MODEL_6b1c431a64d14a6f8d4894e33001665d"
          }
        },
        "99203d5bbc594e5fb0c74414ab554b35": {
          "model_module": "@jupyter-widgets/base",
          "model_module_version": "1.2.0",
          "model_name": "LayoutModel",
          "state": {
            "_model_module": "@jupyter-widgets/base",
            "_model_module_version": "1.2.0",
            "_model_name": "LayoutModel",
            "_view_count": null,
            "_view_module": "@jupyter-widgets/base",
            "_view_module_version": "1.2.0",
            "_view_name": "LayoutView",
            "align_content": null,
            "align_items": null,
            "align_self": null,
            "border": null,
            "bottom": null,
            "display": null,
            "flex": null,
            "flex_flow": null,
            "grid_area": null,
            "grid_auto_columns": null,
            "grid_auto_flow": null,
            "grid_auto_rows": null,
            "grid_column": null,
            "grid_gap": null,
            "grid_row": null,
            "grid_template_areas": null,
            "grid_template_columns": null,
            "grid_template_rows": null,
            "height": null,
            "justify_content": null,
            "justify_items": null,
            "left": null,
            "margin": null,
            "max_height": null,
            "max_width": null,
            "min_height": null,
            "min_width": null,
            "object_fit": null,
            "object_position": null,
            "order": null,
            "overflow": null,
            "overflow_x": null,
            "overflow_y": null,
            "padding": null,
            "right": null,
            "top": null,
            "visibility": null,
            "width": null
          }
        },
        "b83f0eda24d5473dab3d8ee3b48a63c9": {
          "model_module": "@jupyter-widgets/base",
          "model_module_version": "1.2.0",
          "model_name": "LayoutModel",
          "state": {
            "_model_module": "@jupyter-widgets/base",
            "_model_module_version": "1.2.0",
            "_model_name": "LayoutModel",
            "_view_count": null,
            "_view_module": "@jupyter-widgets/base",
            "_view_module_version": "1.2.0",
            "_view_name": "LayoutView",
            "align_content": null,
            "align_items": null,
            "align_self": null,
            "border": null,
            "bottom": null,
            "display": null,
            "flex": null,
            "flex_flow": null,
            "grid_area": null,
            "grid_auto_columns": null,
            "grid_auto_flow": null,
            "grid_auto_rows": null,
            "grid_column": null,
            "grid_gap": null,
            "grid_row": null,
            "grid_template_areas": null,
            "grid_template_columns": null,
            "grid_template_rows": null,
            "height": null,
            "justify_content": null,
            "justify_items": null,
            "left": null,
            "margin": null,
            "max_height": null,
            "max_width": null,
            "min_height": null,
            "min_width": null,
            "object_fit": null,
            "object_position": null,
            "order": null,
            "overflow": null,
            "overflow_x": null,
            "overflow_y": null,
            "padding": null,
            "right": null,
            "top": null,
            "visibility": null,
            "width": null
          }
        },
        "bf4129d323d24e25bb5508472bcc684c": {
          "model_module": "@jupyter-widgets/base",
          "model_module_version": "1.2.0",
          "model_name": "LayoutModel",
          "state": {
            "_model_module": "@jupyter-widgets/base",
            "_model_module_version": "1.2.0",
            "_model_name": "LayoutModel",
            "_view_count": null,
            "_view_module": "@jupyter-widgets/base",
            "_view_module_version": "1.2.0",
            "_view_name": "LayoutView",
            "align_content": null,
            "align_items": null,
            "align_self": null,
            "border": null,
            "bottom": null,
            "display": null,
            "flex": null,
            "flex_flow": null,
            "grid_area": null,
            "grid_auto_columns": null,
            "grid_auto_flow": null,
            "grid_auto_rows": null,
            "grid_column": null,
            "grid_gap": null,
            "grid_row": null,
            "grid_template_areas": null,
            "grid_template_columns": null,
            "grid_template_rows": null,
            "height": null,
            "justify_content": null,
            "justify_items": null,
            "left": null,
            "margin": null,
            "max_height": null,
            "max_width": null,
            "min_height": null,
            "min_width": null,
            "object_fit": null,
            "object_position": null,
            "order": null,
            "overflow": null,
            "overflow_x": null,
            "overflow_y": null,
            "padding": null,
            "right": null,
            "top": null,
            "visibility": null,
            "width": null
          }
        },
        "d92f2caa073445b6be4acb42d5b50656": {
          "model_module": "@jupyter-widgets/controls",
          "model_module_version": "1.5.0",
          "model_name": "VBoxModel",
          "state": {
            "_dom_classes": [
              "widget-interact"
            ],
            "_model_module": "@jupyter-widgets/controls",
            "_model_module_version": "1.5.0",
            "_model_name": "VBoxModel",
            "_view_count": null,
            "_view_module": "@jupyter-widgets/controls",
            "_view_module_version": "1.5.0",
            "_view_name": "VBoxView",
            "box_style": "",
            "children": [
              "IPY_MODEL_46e40ef938b743709c6a1952744c73e5",
              "IPY_MODEL_5a9c44a3c43543a3af2d3193fad5a919"
            ],
            "layout": "IPY_MODEL_f47ef284023c41118994858789df0fa7"
          }
        },
        "e9465a4239d547b2ac449583bc1fb4fb": {
          "model_module": "@jupyter-widgets/output",
          "model_module_version": "1.0.0",
          "model_name": "OutputModel",
          "state": {
            "_dom_classes": [],
            "_model_module": "@jupyter-widgets/output",
            "_model_module_version": "1.0.0",
            "_model_name": "OutputModel",
            "_view_count": null,
            "_view_module": "@jupyter-widgets/output",
            "_view_module_version": "1.0.0",
            "_view_name": "OutputView",
            "layout": "IPY_MODEL_bf4129d323d24e25bb5508472bcc684c",
            "msg_id": "",
            "outputs": [
              {
                "data": {
                  "image/png": "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\n",
                  "text/plain": "<Figure size 1500x700 with 8 Axes>"
                },
                "metadata": {},
                "output_type": "display_data"
              }
            ]
          }
        },
        "f47ef284023c41118994858789df0fa7": {
          "model_module": "@jupyter-widgets/base",
          "model_module_version": "1.2.0",
          "model_name": "LayoutModel",
          "state": {
            "_model_module": "@jupyter-widgets/base",
            "_model_module_version": "1.2.0",
            "_model_name": "LayoutModel",
            "_view_count": null,
            "_view_module": "@jupyter-widgets/base",
            "_view_module_version": "1.2.0",
            "_view_name": "LayoutView",
            "align_content": null,
            "align_items": null,
            "align_self": null,
            "border": null,
            "bottom": null,
            "display": null,
            "flex": null,
            "flex_flow": null,
            "grid_area": null,
            "grid_auto_columns": null,
            "grid_auto_flow": null,
            "grid_auto_rows": null,
            "grid_column": null,
            "grid_gap": null,
            "grid_row": null,
            "grid_template_areas": null,
            "grid_template_columns": null,
            "grid_template_rows": null,
            "height": null,
            "justify_content": null,
            "justify_items": null,
            "left": null,
            "margin": null,
            "max_height": null,
            "max_width": null,
            "min_height": null,
            "min_width": null,
            "object_fit": null,
            "object_position": null,
            "order": null,
            "overflow": null,
            "overflow_x": null,
            "overflow_y": null,
            "padding": null,
            "right": null,
            "top": null,
            "visibility": null,
            "width": null
          }
        },
        "f662a25972ec48f7a0743aa98f5872f8": {
          "model_module": "@jupyter-widgets/controls",
          "model_module_version": "1.5.0",
          "model_name": "SliderStyleModel",
          "state": {
            "_model_module": "@jupyter-widgets/controls",
            "_model_module_version": "1.5.0",
            "_model_name": "SliderStyleModel",
            "_view_count": null,
            "_view_module": "@jupyter-widgets/base",
            "_view_module_version": "1.2.0",
            "_view_name": "StyleView",
            "description_width": "",
            "handle_color": null
          }
        }
      }
    }
  },
  "nbformat": 4,
  "nbformat_minor": 0
}
