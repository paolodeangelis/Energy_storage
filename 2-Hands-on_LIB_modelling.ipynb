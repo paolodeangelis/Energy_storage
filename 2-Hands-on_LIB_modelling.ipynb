{
  "cells": [
    {
      "cell_type": "markdown",
      "metadata": {
        "id": "X0ZoMNKdeXjB"
      },
      "source": [
        "# Hands-on Lithium Ion Battery (LIB) modelling"
      ]
    },
    {
      "cell_type": "markdown",
      "source": [
        "Installing libraries"
      ],
      "metadata": {
        "id": "iVBsH9B-ks8a"
      }
    },
    {
      "cell_type": "code",
      "execution_count": 1,
      "metadata": {
        "id": "xc9gVAykeXjO"
      },
      "outputs": [],
      "source": [
        "# %pip install numpy\n",
        "# %pip install scipy\n",
        "# %pip install matplotlib\n",
        "# %pip install pybamm==22.3"
      ]
    },
    {
      "cell_type": "code",
      "source": [
        "import pybamm\n",
        "import matplotlib.pyplot as plt\n",
        "import numpy as np"
      ],
      "metadata": {
        "id": "UOiphlhVk5CN"
      },
      "execution_count": 2,
      "outputs": []
    },
    {
      "cell_type": "markdown",
      "source": [
        "Model set up"
      ],
      "metadata": {
        "id": "VY5MacmLr0CR"
      }
    },
    {
      "cell_type": "code",
      "source": [
        "# set the model type\n",
        "model = pybamm.lithium_ion.NewmanTobias()\n",
        "\n",
        "# set the default model geometry\n",
        "geometry = model.default_geometry"
      ],
      "metadata": {
        "id": "o9pgE6UAr3ED"
      },
      "execution_count": 3,
      "outputs": []
    },
    {
      "cell_type": "markdown",
      "source": [
        "Uncomment the following plot to show all the model paramenters"
      ],
      "metadata": {
        "id": "1oMx3UxNtfQV"
      }
    },
    {
      "cell_type": "code",
      "source": [
        "# format_str = '{:<75}  {:>20}'\n",
        "# print(format_str.format('PARAMETER', 'VALUE'))\n",
        "# print(\"-\"*97)\n",
        "# for key, value in model.default_parameter_values.items():\n",
        "#     try:\n",
        "#         print(format_str.format(key, value))\n",
        "#     except TypeError:\n",
        "#         print(format_str.format(key, value.__str__()))"
      ],
      "metadata": {
        "id": "45_I8eOaol40"
      },
      "execution_count": 4,
      "outputs": []
    },
    {
      "cell_type": "code",
      "source": [
        "model.default_var_pts"
      ],
      "metadata": {
        "id": "2cPsXuzYQdvF",
        "outputId": "6d6601bb-649e-41b4-a220-6c82a06378cb",
        "colab": {
          "base_uri": "https://localhost:8080/"
        }
      },
      "execution_count": 5,
      "outputs": [
        {
          "output_type": "execute_result",
          "data": {
            "text/plain": [
              "{'R_n': 30,\n",
              " 'R_p': 30,\n",
              " 'r_n': 20,\n",
              " 'r_p': 20,\n",
              " 'x_n': 20,\n",
              " 'x_p': 20,\n",
              " 'x_s': 20,\n",
              " 'y': 10,\n",
              " 'z': 10}"
            ]
          },
          "metadata": {},
          "execution_count": 5
        }
      ]
    },
    {
      "cell_type": "markdown",
      "source": [
        "Let's chage the nominal capacity"
      ],
      "metadata": {
        "id": "TubiqIUwtmj5"
      }
    },
    {
      "cell_type": "code",
      "source": [
        "# set the default model parameters\n",
        "# param = model.default_parameter_values\n",
        "param = pybamm.ParameterValues(\"Chen2020\")\n",
        "# NOMINAL_Q = 2.0 # [Ah]\n",
        "# param['Nominal cell capacity [A.h]'] = NOMINAL_Q  \n",
        "# param['Cell volume [m3]'] = 7.8e-06*2\n",
        "param[\"Current function [A]\"] = \"[input]\" # [A] will be a model input\n",
        "\n",
        "# set the parameters for the model and the geometry\n",
        "param.process_model(model)\n",
        "param.process_geometry(geometry)\n",
        "\n",
        "# # mesh the domains\n",
        "# mesh = pybamm.Mesh(geometry, model.default_submesh_types, model.default_var_pts)\n",
        "\n",
        "# # discretise the model equations\n",
        "# disc = pybamm.Discretisation(mesh, model.default_spatial_methods)\n",
        "# disc.process_model(model)\n",
        "submesh_types = {\n",
        "    \"negative electrode\": pybamm.Uniform1DSubMesh,\n",
        "    \"separator\": pybamm.Uniform1DSubMesh,\n",
        "    \"positive electrode\": pybamm.Uniform1DSubMesh,\n",
        "    \"negative particle\": pybamm.Uniform1DSubMesh,\n",
        "    \"positive particle\": pybamm.Uniform1DSubMesh,\n",
        "    'negative particle size': pybamm.Uniform1DSubMesh,\n",
        "    'positive particle size': pybamm.Uniform1DSubMesh,\n",
        "    \"current collector\": pybamm.SubMesh0D\n",
        "}\n",
        "\n",
        "var = pybamm.standard_spatial_vars\n",
        "var_pts = {var.x_n: 60, var.x_s: 30, var.x_p: 60, var.r_n: 60, var.r_p: 60}\n",
        "mesh = pybamm.Mesh(geometry, submesh_types, var_pts)\n",
        "spatial_methods = {\n",
        "    'current collector': pybamm.ZeroDimensionalSpatialMethod(),\n",
        "    \"macroscale\": pybamm.FiniteVolume(),\n",
        "    \"negative particle\": pybamm.FiniteVolume(),\n",
        "    \"positive particle\": pybamm.FiniteVolume(),\n",
        "}\n",
        "disc = pybamm.Discretisation(mesh, spatial_methods)\n",
        "disc.process_model(model)"
      ],
      "metadata": {
        "colab": {
          "base_uri": "https://localhost:8080/"
        },
        "id": "P2_5JfuTtrOA",
        "outputId": "bd6b201b-728b-47d2-d94d-f64b614450b2"
      },
      "execution_count": 6,
      "outputs": [
        {
          "output_type": "execute_result",
          "data": {
            "text/plain": [
              "<pybamm.models.full_battery_models.lithium_ion.newman_tobias.NewmanTobias at 0x7ff9a7023710>"
            ]
          },
          "metadata": {},
          "execution_count": 6
        }
      ]
    },
    {
      "cell_type": "code",
      "source": [
        "NOMINAL_Q = param['Nominal cell capacity [A.h]'] "
      ],
      "metadata": {
        "id": "iAVX0KsrPWVO"
      },
      "execution_count": 7,
      "outputs": []
    },
    {
      "cell_type": "markdown",
      "source": [
        "Now lets discharge the battery per 1h\n",
        "\n"
      ],
      "metadata": {
        "id": "Y_ZswmkOuK35"
      }
    },
    {
      "cell_type": "code",
      "source": [
        "# Lets use the default solver to compute the discharge curve\n",
        "solver = pybamm.CasadiSolver()\n",
        "n = 3601 # how many point to evaluate\n",
        "t_eval = np.linspace(0, 3600, n) # [s]\n",
        "solution = solver.solve(model, t_eval, inputs={'Current function [A]': NOMINAL_Q /1})"
      ],
      "metadata": {
        "id": "nPtKyAYvuUH1"
      },
      "execution_count": 8,
      "outputs": []
    },
    {
      "cell_type": "markdown",
      "source": [
        "lets plot the result"
      ],
      "metadata": {
        "id": "j47Ep1Jrw55r"
      }
    },
    {
      "cell_type": "code",
      "source": [
        "time = solution[\"Time [h]\"].entries\n",
        "voltage = solution[\"Terminal voltage [V]\"].entries\n",
        "\n",
        "fig = plt.figure(figsize=(8,5))\n",
        "\n",
        "with plt.style.context('seaborn'):\n",
        "    ax = fig.add_subplot(111)\n",
        "    ax.plot(time, voltage)\n",
        "    ax.set_xlabel(\"Time [h]\")\n",
        "    ax.set_ylabel(\"Terminal voltage [V]\")\n",
        "\n",
        "plt.show()"
      ],
      "metadata": {
        "colab": {
          "base_uri": "https://localhost:8080/",
          "height": 334
        },
        "id": "P0qwzySkw_x9",
        "outputId": "211209c7-4eea-4784-cd17-6e22eda9b038"
      },
      "execution_count": 9,
      "outputs": [
        {
          "output_type": "display_data",
          "data": {
            "text/plain": [
              "<Figure size 576x360 with 1 Axes>"
            ],
            "image/png": "[encoded data removed]"
          },
          "metadata": {
            "needs_background": "light"
          }
        }
      ]
    },
    {
      "cell_type": "markdown",
      "source": [
        "## cumpute V profile ad different C-rate"
      ],
      "metadata": {
        "id": "i9zizyx9JNu5"
      }
    },
    {
      "cell_type": "code",
      "source": [
        "C_RATE  = NOMINAL_Q /1.\n",
        "C_RATES = [3, 2, 1.5, 1, 0.75, 0.5, 0.25, 0.1, 0.05, 0.01, 0.001]\n",
        "\n",
        "times = []\n",
        "voltages = []\n",
        "\n",
        "for c_rate in C_RATES:\n",
        "    t_eval = np.linspace(0, 4000/c_rate, max(500, int(50000*c_rate)) )\n",
        "    solution = solver.solve(model, t_eval, inputs={'Current function [A]': C_RATE*c_rate})\n",
        "    times.append(\n",
        "        solution[\"Time [h]\"].entries\n",
        "    )\n",
        "    voltages.append(\n",
        "        solution[\"Terminal voltage [V]\"].entries\n",
        "    )\n",
        "    print(f\"C-Rate {c_rate:>6}: Discharged in {times[-1].max():>6.3g} h\")"
      ],
      "metadata": {
        "id": "SSPYUUBqJUx-",
        "outputId": "430e01fc-d551-49a4-c59c-befa8f7b240d",
        "colab": {
          "base_uri": "https://localhost:8080/"
        }
      },
      "execution_count": 10,
      "outputs": [
        {
          "output_type": "stream",
          "name": "stdout",
          "text": [
            "C-Rate      3: Discharged in  0.334 h\n",
            "C-Rate      2: Discharged in  0.503 h\n",
            "C-Rate    1.5: Discharged in  0.673 h\n",
            "C-Rate      1: Discharged in   1.01 h\n",
            "C-Rate   0.75: Discharged in   1.35 h\n",
            "C-Rate    0.5: Discharged in   2.03 h\n",
            "C-Rate   0.25: Discharged in   4.07 h\n",
            "C-Rate    0.1: Discharged in   10.2 h\n",
            "C-Rate   0.05: Discharged in   20.4 h\n",
            "C-Rate   0.01: Discharged in    102 h\n",
            "C-Rate  0.001: Discharged in 1.02e+03 h\n"
          ]
        }
      ]
    },
    {
      "cell_type": "code",
      "source": [
        "fig = plt.figure(figsize=(6,4), dpi=120)\n",
        "\n",
        "with plt.style.context('seaborn'):\n",
        "    ax = fig.add_subplot(111)\n",
        "    for i, c_rate in enumerate(C_RATES):\n",
        "        ax.plot(times[i], voltages[i], label=f'{c_rate:1.2f} C')\n",
        "    ax.set_xlabel(\"Time [h]\")\n",
        "    ax.set_ylabel(\"Terminal voltage [V]\")\n",
        "    ax.legend()\n",
        "\n",
        "plt.show()"
      ],
      "metadata": {
        "id": "DjSko8C0SCp9",
        "outputId": "bb97b740-324e-430e-fe7a-4e8d6f5280f8",
        "colab": {
          "base_uri": "https://localhost:8080/",
          "height": 461
        }
      },
      "execution_count": 11,
      "outputs": [
        {
          "output_type": "display_data",
          "data": {
            "text/plain": [
              "<Figure size 720x480 with 1 Axes>"
            ],
            "image/png": "[encoded data removed]"
          },
          "metadata": {
            "needs_background": "light"
          }
        }
      ]
    },
    {
      "cell_type": "code",
      "source": [
        "from scipy.integrate import trapz"
      ],
      "metadata": {
        "id": "pMnCY8RsXG5F"
      },
      "execution_count": 12,
      "outputs": []
    },
    {
      "cell_type": "code",
      "source": [
        "\n",
        "def get_energy(V, I, t):\n",
        "    return trapz(V*I, x=t)\n",
        "\n",
        "def get_cell_volume_and_mass(param):\n",
        "    vol = param['Cell volume [m3]']\n",
        "    t = 0\n",
        "    rho = 0\n",
        "    componets = [\n",
        "        'Negative electrode',\n",
        "        'Negative current collector',\n",
        "        'Positive electrode',\n",
        "        'Positive current collector',\n",
        "        'Separator'\n",
        "    ]\n",
        "    for comp in componets:\n",
        "        rho_ = param[comp+' density [kg.m-3]']\n",
        "        t_ = param[comp+' thickness [m]']\n",
        "        rho += rho_*t_\n",
        "        t += t_\n",
        "    rho /= t\n",
        "    mass = rho*vol\n",
        "    return vol, mass\n",
        "\n",
        "CELL_VOL, CELL_MASS = get_cell_volume_and_mass(param)\n",
        "specifc_power = []\n",
        "specifc_energy = []\n",
        "for i, (c_rate, v, t) in enumerate(zip(C_RATES, voltages, times)):\n",
        "    energy = get_energy(v, c_rate*C_RATE, t*3600)\n",
        "    power = energy / (t.max()*3600)\n",
        "    specifc_energy.append(energy/CELL_MASS)\n",
        "    specifc_power.append(power/CELL_MASS)"
      ],
      "metadata": {
        "id": "DvmLo5maX6hG"
      },
      "execution_count": 13,
      "outputs": []
    },
    {
      "cell_type": "code",
      "source": [
        "specifc_energy"
      ],
      "metadata": {
        "id": "LLki1Tq_aOPI",
        "outputId": "dc5b1887-8a0c-4f2a-d67a-ce443833a1ee",
        "colab": {
          "base_uri": "https://localhost:8080/"
        }
      },
      "execution_count": 14,
      "outputs": [
        {
          "output_type": "execute_result",
          "data": {
            "text/plain": [
              "[955634.8448363809,\n",
              " 975089.6164137349,\n",
              " 986377.3020939636,\n",
              " 999530.100837254,\n",
              " 1007283.766220032,\n",
              " 1016380.8584968647,\n",
              " 1027681.706750522,\n",
              " 1036031.8178194483,\n",
              " 1039100.6705064909,\n",
              " 1041621.2468829365,\n",
              " 1042192.6686281738]"
            ]
          },
          "metadata": {},
          "execution_count": 14
        }
      ]
    },
    {
      "cell_type": "code",
      "source": [
        "specifc_power"
      ],
      "metadata": {
        "id": "VznNfR-RY-1P",
        "outputId": "4abcb24f-17d2-4796-eda1-ba6b95589a93",
        "colab": {
          "base_uri": "https://localhost:8080/"
        }
      },
      "execution_count": 15,
      "outputs": [
        {
          "output_type": "execute_result",
          "data": {
            "text/plain": [
              "[794.1038690424934,\n",
              " 538.0013223726676,\n",
              " 407.29103004162835,\n",
              " 274.4949924536138,\n",
              " 207.1888460060999,\n",
              " 139.15532109290018,\n",
              " 70.20759352815092,\n",
              " 28.26110232619646,\n",
              " 14.161861611755587,\n",
              " 2.837424309413472,\n",
              " 0.28385648461763835]"
            ]
          },
          "metadata": {},
          "execution_count": 15
        }
      ]
    },
    {
      "cell_type": "code",
      "source": [
        "plt.loglog(specifc_power, specifc_energy, '-s')"
      ],
      "metadata": {
        "id": "VFEw0Pg6etv8",
        "outputId": "1419fd27-9b54-49d2-b931-b5efb27e5be4",
        "colab": {
          "base_uri": "https://localhost:8080/",
          "height": 287
        }
      },
      "execution_count": 16,
      "outputs": [
        {
          "output_type": "execute_result",
          "data": {
            "text/plain": [
              "[<matplotlib.lines.Line2D at 0x7ff98a22e790>]"
            ]
          },
          "metadata": {},
          "execution_count": 16
        },
        {
          "output_type": "display_data",
          "data": {
            "text/plain": [
              "<Figure size 432x288 with 1 Axes>"
            ],
            "image/png": "[encoded data removed]"
          },
          "metadata": {
            "needs_background": "light"
          }
        }
      ]
    },
    {
      "cell_type": "code",
      "source": [
        "    \n",
        "    c_rate = 2\n",
        "\n",
        "    C_RATE  = NOMINAL_Q /1.\n",
        "\n",
        "    t_eval = np.linspace(0, 3600/c_rate +300, 3000)\n",
        "    solution = solver.solve(model, t_eval, inputs={'Current function [A]': C_RATE*c_rate})\n",
        "    times.append(\n",
        "        solution[\"Time [h]\"].entries\n",
        "    )\n",
        "    voltages.append(\n",
        "        solution[\"Terminal voltage [V]\"].entries\n",
        "    )\n",
        "    "
      ],
      "metadata": {
        "id": "tSRuO-f9RrYe"
      },
      "execution_count": 17,
      "outputs": []
    },
    {
      "cell_type": "markdown",
      "source": [
        "## Find the 1 C-rate current"
      ],
      "metadata": {
        "id": "mr4W4lvLyA09"
      }
    },
    {
      "cell_type": "markdown",
      "source": [
        "We are going to use a old but simple method but effective metod to find the exact value of current to discharge the battery afte 1 hour with a cut of current of 3.3 V.\n",
        "We are going to use [Secant Method](https://en.wikipedia.org/wiki/Secant_method) to find the zero of the follinwing target function:\n",
        "\n",
        "$ f(i) = V_{end}(i) - V_{cut-off} $ \n",
        "\n",
        "> Note: a battery is discharge when the terminal voltage cross the cut-off value"
      ],
      "metadata": {
        "id": "AEWqZFNCyCs0"
      }
    },
    {
      "cell_type": "code",
      "source": [
        "# from scipy.optimize import differential_evolution # genetic algorithm optimizer\n",
        "\n",
        "# CUTOFF_V = 3.3 \n",
        "# i_min = NOMINAL_Q * 0.6/ 1.\n",
        "# i_max = NOMINAL_Q * 1.5 / 1.\n",
        "\n",
        "# def f_target(i):\n",
        "#     solution = solver.solve(model, t_eval, inputs={'Current function [A]': i})\n",
        "#     V_new = solution[\"Terminal voltage [V]\"].entries[-1]\n",
        "#     return V_new-CUTOFF_V\n",
        "\n",
        "# differential_evolution(f_target, bounds=[(i_min, i_max)])"
      ],
      "metadata": {
        "id": "A5yWQP8nFmVp"
      },
      "execution_count": 18,
      "outputs": []
    },
    {
      "cell_type": "code",
      "source": [
        "from scipy.interpolate import interp1d\n",
        "\n",
        "CUTOFF_V = 3.0\n",
        "\n",
        "i_0 = NOMINAL_Q * 0.8/ 1.\n",
        "i_1 = NOMINAL_Q * 1.1 / 1.\n",
        "\n",
        "def f_target(t):\n",
        "    return t-1\n",
        "\n",
        "def get_cut_off_time(V, t):\n",
        "    # diff = np.abs(V-CUTOFF_V)\n",
        "    # indx = np.where(diff == diff.min())[0]\n",
        "    # return t[indx][0]\n",
        "    f_int = interp1d(V, t)\n",
        "    return f_int(CUTOFF_V)\n",
        "\n",
        "t_eval = np.linspace(0, 7200, 7201)\n",
        "solution_0 = solver.solve(model, t_eval, inputs={'Current function [A]': i_0})\n",
        "tc_0 = get_cut_off_time(solution_0[\"Terminal voltage [V]\"].entries, \n",
        "                        solution_0[\"Time [h]\"].entries ) \n",
        "solution_1 = solver.solve(model, t_eval, inputs={'Current function [A]': i_1})\n",
        "tc_1= get_cut_off_time(solution_1[\"Terminal voltage [V]\"].entries, \n",
        "                        solution_1[\"Time [h]\"].entries ) \n",
        "\n",
        "# The loop end when diffence between two consecutive aptempt are less that 5% \n",
        "n_int = 0\n",
        "while abs(tc_0-tc_1) > 0.001:\n",
        "    i_new = i_1 - f_target(tc_1)*(i_1-i_0) / (f_target(tc_1)- f_target(tc_0))\n",
        "    solution = solver.solve(model, t_eval, inputs={'Current function [A]': i_new})\n",
        "    tc_new= get_cut_off_time(solution[\"Terminal voltage [V]\"].entries, \n",
        "                             solution[\"Time [h]\"].entries )\n",
        "    print(f\"[{n_int+1}]\\ti_new: {i_new:1.5g} A\\ttc_new: {tc_new:1.5g} h\") \n",
        "    i_0 = i_1\n",
        "    i_1 = i_new\n",
        "    tc_0 = tc_1\n",
        "    tc_1 = tc_new\n",
        "    n_int += 1\n",
        "C_RATE = i_1\n",
        "print(f\"C-rate current = {C_RATE} A\")"
      ],
      "metadata": {
        "id": "oxvxoOmFx6FD"
      },
      "execution_count": null,
      "outputs": []
    },
    {
      "cell_type": "markdown",
      "source": [
        "Let's plot the result"
      ],
      "metadata": {
        "id": "pzA6mmZgQ079"
      }
    },
    {
      "cell_type": "code",
      "source": [
        "t_eval = np.linspace(0, 3600, 361)\n",
        "solution_old = solver.solve(model, t_eval, inputs={'Current function [A]': NOMINAL_Q/1.})\n",
        "solution = solver.solve(model, t_eval, inputs={'Current function [A]': C_RATE})\n",
        "\n",
        "time_old = solution_old[\"Time [h]\"].entries\n",
        "voltage_old = solution_old[\"Terminal voltage [V]\"].entries\n",
        "time = solution[\"Time [h]\"].entries\n",
        "voltage = solution[\"Terminal voltage [V]\"].entries\n",
        "\n",
        "fig = plt.figure(figsize=(6,4), dpi=120)\n",
        "\n",
        "with plt.style.context('seaborn'):\n",
        "    ax = fig.add_subplot(111)\n",
        "    ax.plot(time_old, voltage_old, label='Nominal')\n",
        "    ax.plot(time, voltage, label='1 C-rate')\n",
        "    ax.set_xlabel(\"Time [h]\")\n",
        "    ax.set_ylabel(\"Terminal voltage [V]\")\n",
        "    ax.legend()\n",
        "\n",
        "plt.show()"
      ],
      "metadata": {
        "id": "2iG0AZaIQzAG"
      },
      "execution_count": null,
      "outputs": []
    },
    {
      "cell_type": "code",
      "source": [
        "np.linspace(0, 7200, 181)"
      ],
      "metadata": {
        "id": "cm_5K2BYJaA7"
      },
      "execution_count": null,
      "outputs": []
    },
    {
      "cell_type": "code",
      "source": [
        "solution_1[\"Time [h]\"].entries"
      ],
      "metadata": {
        "id": "JbKIOHH21K-h"
      },
      "execution_count": null,
      "outputs": []
    },
    {
      "cell_type": "code",
      "source": [
        "time = solution_0[\"Time [h]\"].entries\n",
        "voltage = solution_0[\"Terminal voltage [V]\"].entries\n",
        "time_1 = solution_1[\"Time [h]\"].entries\n",
        "voltage_1 = solution_1[\"Terminal voltage [V]\"].entries\n",
        "\n",
        "fig = plt.figure(figsize=(8,5))\n",
        "\n",
        "with plt.style.context('seaborn'):\n",
        "    ax = fig.add_subplot(111)\n",
        "    ax.plot(time, voltage)\n",
        "    ax.plot(time_1, voltage_1)\n",
        "    ax.set_xlabel(\"Time [h]\")\n",
        "    ax.set_ylabel(\"Terminal voltage [V]\")\n",
        "\n",
        "plt.show()"
      ],
      "metadata": {
        "id": "9ci9951-0-MB"
      },
      "execution_count": null,
      "outputs": []
    },
    {
      "cell_type": "code",
      "source": [
        "# Solution with current = 0.68\n",
        "old_solution = solver.solve(model, t_eval, inputs={\"Current function [A]\": 0.68})\n",
        "old_time = old_solution[\"Time [h]\"].entries\n",
        "old_voltage = old_solution[\"Terminal voltage [V]\"].entries\n",
        "\n",
        "# Solution with current = 1.4\n",
        "new_solution = solver.solve(model, t_eval, inputs={\"Current function [A]\": 1.4})\n",
        "new_time = new_solution[\"Time [h]\"].entries\n",
        "new_voltage = new_solution[\"Terminal voltage [V]\"].entries\n",
        "\n",
        "plt.plot(old_time, old_voltage, lw=2, label=\"Current = 0.68\")\n",
        "plt.plot(new_time, new_voltage, lw=2, label=\"Current = 1.4\")\n",
        "plt.xlabel(\"Time [h]\", fontsize=15)\n",
        "plt.ylabel(\"Terminal voltage [V]\", fontsize=15)\n",
        "plt.legend(fontsize=15)\n",
        "plt.show()"
      ],
      "metadata": {
        "id": "xs3Hxz1g0eao"
      },
      "execution_count": null,
      "outputs": []
    },
    {
      "cell_type": "code",
      "source": [
        "solution.plot()"
      ],
      "metadata": {
        "id": "7FW00oc2vPbr"
      },
      "execution_count": null,
      "outputs": []
    }
  ],
  "metadata": {
    "language_info": {
      "name": "python"
    },
    "orig_nbformat": 4,
    "colab": {
      "name": "2-Hands-on_LIB_modelling.ipynb",
      "provenance": []
    },
    "kernelspec": {
      "name": "python3",
      "display_name": "Python 3"
    },
    "accelerator": "TPU"
  },
  "nbformat": 4,
  "nbformat_minor": 0
}