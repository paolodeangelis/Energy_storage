{
  "cells": [
    {
      "cell_type": "markdown",
      "metadata": {
        "id": "X0ZoMNKdeXjB"
      },
      "source": [
        "# Hands-on Lithium Ion Battery (LIB) modelling"
      ]
    },
    {
      "cell_type": "markdown",
      "source": [
        "Installing libraries"
      ],
      "metadata": {
        "id": "iVBsH9B-ks8a"
      }
    },
    {
      "cell_type": "code",
      "execution_count": 1,
      "metadata": {
        "id": "xc9gVAykeXjO",
        "outputId": "67135d00-583f-4e4e-9479-a7acce8d3db1",
        "colab": {
          "base_uri": "https://localhost:8080/",
          "height": 1000
        }
      },
      "outputs": [
        {
          "output_type": "stream",
          "name": "stdout",
          "text": [
            "Requirement already satisfied: numpy in /usr/local/lib/python3.7/dist-packages (1.21.6)\n",
            "Requirement already satisfied: scipy in /usr/local/lib/python3.7/dist-packages (1.4.1)\n",
            "Requirement already satisfied: numpy>=1.13.3 in /usr/local/lib/python3.7/dist-packages (from scipy) (1.21.6)\n",
            "Requirement already satisfied: matplotlib in /usr/local/lib/python3.7/dist-packages (3.2.2)\n",
            "Requirement already satisfied: kiwisolver>=1.0.1 in /usr/local/lib/python3.7/dist-packages (from matplotlib) (1.4.2)\n",
            "Requirement already satisfied: numpy>=1.11 in /usr/local/lib/python3.7/dist-packages (from matplotlib) (1.21.6)\n",
            "Requirement already satisfied: python-dateutil>=2.1 in /usr/local/lib/python3.7/dist-packages (from matplotlib) (2.8.2)\n",
            "Requirement already satisfied: pyparsing!=2.0.4,!=2.1.2,!=2.1.6,>=2.0.1 in /usr/local/lib/python3.7/dist-packages (from matplotlib) (3.0.8)\n",
            "Requirement already satisfied: cycler>=0.10 in /usr/local/lib/python3.7/dist-packages (from matplotlib) (0.11.0)\n",
            "Requirement already satisfied: typing-extensions in /usr/local/lib/python3.7/dist-packages (from kiwisolver>=1.0.1->matplotlib) (4.2.0)\n",
            "Requirement already satisfied: six>=1.5 in /usr/local/lib/python3.7/dist-packages (from python-dateutil>=2.1->matplotlib) (1.15.0)\n",
            "Collecting pybamm\n",
            "  Downloading pybamm-22.3-cp37-cp37m-manylinux2010_x86_64.whl (1.9 MB)\n",
            "\u001b[K     |████████████████████████████████| 1.9 MB 5.3 MB/s \n",
            "\u001b[?25hCollecting pybtex\n",
            "  Downloading pybtex-0.24.0-py2.py3-none-any.whl (561 kB)\n",
            "\u001b[K     |████████████████████████████████| 561 kB 45.0 MB/s \n",
            "\u001b[?25hRequirement already satisfied: autograd>=1.2 in /usr/local/lib/python3.7/dist-packages (from pybamm) (1.4)\n",
            "Requirement already satisfied: scipy>=1.3 in /usr/local/lib/python3.7/dist-packages (from pybamm) (1.4.1)\n",
            "Collecting scikit-fem>=0.2.0\n",
            "  Downloading scikit_fem-6.0.0-py3-none-any.whl (144 kB)\n",
            "\u001b[K     |████████████████████████████████| 144 kB 45.5 MB/s \n",
            "\u001b[?25hRequirement already satisfied: jupyter in /usr/local/lib/python3.7/dist-packages (from pybamm) (1.0.0)\n",
            "Collecting anytree>=2.4.3\n",
            "  Downloading anytree-2.8.0-py2.py3-none-any.whl (41 kB)\n",
            "\u001b[K     |████████████████████████████████| 41 kB 631 kB/s \n",
            "\u001b[?25hCollecting sympy==1.9\n",
            "  Downloading sympy-1.9-py3-none-any.whl (6.2 MB)\n",
            "\u001b[K     |████████████████████████████████| 6.2 MB 29.7 MB/s \n",
            "\u001b[?25hCollecting imageio>=2.9.0\n",
            "  Downloading imageio-2.19.0-py3-none-any.whl (3.4 MB)\n",
            "\u001b[K     |████████████████████████████████| 3.4 MB 27.4 MB/s \n",
            "\u001b[?25hCollecting casadi>=3.5.0\n",
            "  Downloading casadi-3.5.5-cp37-none-manylinux1_x86_64.whl (34.2 MB)\n",
            "\u001b[K     |████████████████████████████████| 34.2 MB 78 kB/s \n",
            "\u001b[?25hRequirement already satisfied: numpy>=1.16 in /usr/local/lib/python3.7/dist-packages (from pybamm) (1.21.6)\n",
            "Requirement already satisfied: pandas>=0.24 in /usr/local/lib/python3.7/dist-packages (from pybamm) (1.3.5)\n",
            "Requirement already satisfied: matplotlib>=2.0 in /usr/local/lib/python3.7/dist-packages (from pybamm) (3.2.2)\n",
            "Requirement already satisfied: mpmath>=0.19 in /usr/local/lib/python3.7/dist-packages (from sympy==1.9->pybamm) (1.2.1)\n",
            "Requirement already satisfied: six>=1.9.0 in /usr/local/lib/python3.7/dist-packages (from anytree>=2.4.3->pybamm) (1.15.0)\n",
            "Requirement already satisfied: future>=0.15.2 in /usr/local/lib/python3.7/dist-packages (from autograd>=1.2->pybamm) (0.16.0)\n",
            "Collecting pillow>=8.3.2\n",
            "  Downloading Pillow-9.1.0-cp37-cp37m-manylinux_2_17_x86_64.manylinux2014_x86_64.whl (4.3 MB)\n",
            "\u001b[K     |████████████████████████████████| 4.3 MB 38.5 MB/s \n",
            "\u001b[?25hRequirement already satisfied: kiwisolver>=1.0.1 in /usr/local/lib/python3.7/dist-packages (from matplotlib>=2.0->pybamm) (1.4.2)\n",
            "Requirement already satisfied: pyparsing!=2.0.4,!=2.1.2,!=2.1.6,>=2.0.1 in /usr/local/lib/python3.7/dist-packages (from matplotlib>=2.0->pybamm) (3.0.8)\n",
            "Requirement already satisfied: python-dateutil>=2.1 in /usr/local/lib/python3.7/dist-packages (from matplotlib>=2.0->pybamm) (2.8.2)\n",
            "Requirement already satisfied: cycler>=0.10 in /usr/local/lib/python3.7/dist-packages (from matplotlib>=2.0->pybamm) (0.11.0)\n",
            "Requirement already satisfied: typing-extensions in /usr/local/lib/python3.7/dist-packages (from kiwisolver>=1.0.1->matplotlib>=2.0->pybamm) (4.2.0)\n",
            "Requirement already satisfied: pytz>=2017.3 in /usr/local/lib/python3.7/dist-packages (from pandas>=0.24->pybamm) (2022.1)\n",
            "Requirement already satisfied: ipykernel in /usr/local/lib/python3.7/dist-packages (from jupyter->pybamm) (4.10.1)\n",
            "Requirement already satisfied: qtconsole in /usr/local/lib/python3.7/dist-packages (from jupyter->pybamm) (5.3.0)\n",
            "Requirement already satisfied: notebook in /usr/local/lib/python3.7/dist-packages (from jupyter->pybamm) (5.3.1)\n",
            "Requirement already satisfied: nbconvert in /usr/local/lib/python3.7/dist-packages (from jupyter->pybamm) (5.6.1)\n",
            "Requirement already satisfied: ipywidgets in /usr/local/lib/python3.7/dist-packages (from jupyter->pybamm) (7.7.0)\n",
            "Requirement already satisfied: jupyter-console in /usr/local/lib/python3.7/dist-packages (from jupyter->pybamm) (5.2.0)\n",
            "Requirement already satisfied: ipython>=4.0.0 in /usr/local/lib/python3.7/dist-packages (from ipykernel->jupyter->pybamm) (5.5.0)\n",
            "Requirement already satisfied: tornado>=4.0 in /usr/local/lib/python3.7/dist-packages (from ipykernel->jupyter->pybamm) (5.1.1)\n",
            "Requirement already satisfied: traitlets>=4.1.0 in /usr/local/lib/python3.7/dist-packages (from ipykernel->jupyter->pybamm) (5.1.1)\n",
            "Requirement already satisfied: jupyter-client in /usr/local/lib/python3.7/dist-packages (from ipykernel->jupyter->pybamm) (5.3.5)\n",
            "Requirement already satisfied: setuptools>=18.5 in /usr/local/lib/python3.7/dist-packages (from ipython>=4.0.0->ipykernel->jupyter->pybamm) (57.4.0)\n",
            "Requirement already satisfied: simplegeneric>0.8 in /usr/local/lib/python3.7/dist-packages (from ipython>=4.0.0->ipykernel->jupyter->pybamm) (0.8.1)\n",
            "Requirement already satisfied: decorator in /usr/local/lib/python3.7/dist-packages (from ipython>=4.0.0->ipykernel->jupyter->pybamm) (4.4.2)\n",
            "Requirement already satisfied: pygments in /usr/local/lib/python3.7/dist-packages (from ipython>=4.0.0->ipykernel->jupyter->pybamm) (2.6.1)\n",
            "Requirement already satisfied: pexpect in /usr/local/lib/python3.7/dist-packages (from ipython>=4.0.0->ipykernel->jupyter->pybamm) (4.8.0)\n",
            "Requirement already satisfied: prompt-toolkit<2.0.0,>=1.0.4 in /usr/local/lib/python3.7/dist-packages (from ipython>=4.0.0->ipykernel->jupyter->pybamm) (1.0.18)\n",
            "Requirement already satisfied: pickleshare in /usr/local/lib/python3.7/dist-packages (from ipython>=4.0.0->ipykernel->jupyter->pybamm) (0.7.5)\n",
            "Requirement already satisfied: wcwidth in /usr/local/lib/python3.7/dist-packages (from prompt-toolkit<2.0.0,>=1.0.4->ipython>=4.0.0->ipykernel->jupyter->pybamm) (0.2.5)\n",
            "Requirement already satisfied: widgetsnbextension~=3.6.0 in /usr/local/lib/python3.7/dist-packages (from ipywidgets->jupyter->pybamm) (3.6.0)\n",
            "Requirement already satisfied: nbformat>=4.2.0 in /usr/local/lib/python3.7/dist-packages (from ipywidgets->jupyter->pybamm) (5.3.0)\n",
            "Requirement already satisfied: ipython-genutils~=0.2.0 in /usr/local/lib/python3.7/dist-packages (from ipywidgets->jupyter->pybamm) (0.2.0)\n",
            "Requirement already satisfied: jupyterlab-widgets>=1.0.0 in /usr/local/lib/python3.7/dist-packages (from ipywidgets->jupyter->pybamm) (1.1.0)\n",
            "Requirement already satisfied: fastjsonschema in /usr/local/lib/python3.7/dist-packages (from nbformat>=4.2.0->ipywidgets->jupyter->pybamm) (2.15.3)\n",
            "Requirement already satisfied: jsonschema>=2.6 in /usr/local/lib/python3.7/dist-packages (from nbformat>=4.2.0->ipywidgets->jupyter->pybamm) (4.3.3)\n",
            "Requirement already satisfied: jupyter-core in /usr/local/lib/python3.7/dist-packages (from nbformat>=4.2.0->ipywidgets->jupyter->pybamm) (4.10.0)\n",
            "Requirement already satisfied: importlib-metadata in /usr/local/lib/python3.7/dist-packages (from jsonschema>=2.6->nbformat>=4.2.0->ipywidgets->jupyter->pybamm) (4.11.3)\n",
            "Requirement already satisfied: importlib-resources>=1.4.0 in /usr/local/lib/python3.7/dist-packages (from jsonschema>=2.6->nbformat>=4.2.0->ipywidgets->jupyter->pybamm) (5.7.1)\n",
            "Requirement already satisfied: attrs>=17.4.0 in /usr/local/lib/python3.7/dist-packages (from jsonschema>=2.6->nbformat>=4.2.0->ipywidgets->jupyter->pybamm) (21.4.0)\n",
            "Requirement already satisfied: pyrsistent!=0.17.0,!=0.17.1,!=0.17.2,>=0.14.0 in /usr/local/lib/python3.7/dist-packages (from jsonschema>=2.6->nbformat>=4.2.0->ipywidgets->jupyter->pybamm) (0.18.1)\n",
            "Requirement already satisfied: zipp>=3.1.0 in /usr/local/lib/python3.7/dist-packages (from importlib-resources>=1.4.0->jsonschema>=2.6->nbformat>=4.2.0->ipywidgets->jupyter->pybamm) (3.8.0)\n",
            "Requirement already satisfied: Send2Trash in /usr/local/lib/python3.7/dist-packages (from notebook->jupyter->pybamm) (1.8.0)\n",
            "Requirement already satisfied: terminado>=0.8.1 in /usr/local/lib/python3.7/dist-packages (from notebook->jupyter->pybamm) (0.13.3)\n",
            "Requirement already satisfied: jinja2 in /usr/local/lib/python3.7/dist-packages (from notebook->jupyter->pybamm) (2.11.3)\n",
            "Requirement already satisfied: pyzmq>=13 in /usr/local/lib/python3.7/dist-packages (from jupyter-client->ipykernel->jupyter->pybamm) (22.3.0)\n",
            "Requirement already satisfied: ptyprocess in /usr/local/lib/python3.7/dist-packages (from terminado>=0.8.1->notebook->jupyter->pybamm) (0.7.0)\n",
            "Requirement already satisfied: MarkupSafe>=0.23 in /usr/local/lib/python3.7/dist-packages (from jinja2->notebook->jupyter->pybamm) (2.0.1)\n",
            "Requirement already satisfied: defusedxml in /usr/local/lib/python3.7/dist-packages (from nbconvert->jupyter->pybamm) (0.7.1)\n",
            "Requirement already satisfied: entrypoints>=0.2.2 in /usr/local/lib/python3.7/dist-packages (from nbconvert->jupyter->pybamm) (0.4)\n",
            "Requirement already satisfied: mistune<2,>=0.8.1 in /usr/local/lib/python3.7/dist-packages (from nbconvert->jupyter->pybamm) (0.8.4)\n",
            "Requirement already satisfied: bleach in /usr/local/lib/python3.7/dist-packages (from nbconvert->jupyter->pybamm) (5.0.0)\n",
            "Requirement already satisfied: pandocfilters>=1.4.1 in /usr/local/lib/python3.7/dist-packages (from nbconvert->jupyter->pybamm) (1.5.0)\n",
            "Requirement already satisfied: testpath in /usr/local/lib/python3.7/dist-packages (from nbconvert->jupyter->pybamm) (0.6.0)\n",
            "Requirement already satisfied: webencodings in /usr/local/lib/python3.7/dist-packages (from bleach->nbconvert->jupyter->pybamm) (0.5.1)\n",
            "Requirement already satisfied: PyYAML>=3.01 in /usr/local/lib/python3.7/dist-packages (from pybtex->pybamm) (3.13)\n",
            "Collecting latexcodec>=1.0.4\n",
            "  Downloading latexcodec-2.0.1-py2.py3-none-any.whl (18 kB)\n",
            "Requirement already satisfied: qtpy>=2.0.1 in /usr/local/lib/python3.7/dist-packages (from qtconsole->jupyter->pybamm) (2.0.1)\n",
            "Requirement already satisfied: packaging in /usr/local/lib/python3.7/dist-packages (from qtpy>=2.0.1->qtconsole->jupyter->pybamm) (21.3)\n",
            "Installing collected packages: pillow, latexcodec, sympy, scikit-fem, pybtex, imageio, casadi, anytree, pybamm\n",
            "  Attempting uninstall: pillow\n",
            "    Found existing installation: Pillow 7.1.2\n",
            "    Uninstalling Pillow-7.1.2:\n",
            "      Successfully uninstalled Pillow-7.1.2\n",
            "  Attempting uninstall: sympy\n",
            "    Found existing installation: sympy 1.7.1\n",
            "    Uninstalling sympy-1.7.1:\n",
            "      Successfully uninstalled sympy-1.7.1\n",
            "  Attempting uninstall: imageio\n",
            "    Found existing installation: imageio 2.4.1\n",
            "    Uninstalling imageio-2.4.1:\n",
            "      Successfully uninstalled imageio-2.4.1\n",
            "\u001b[31mERROR: pip's dependency resolver does not currently take into account all the packages that are installed. This behaviour is the source of the following dependency conflicts.\n",
            "albumentations 0.1.12 requires imgaug<0.2.7,>=0.2.5, but you have imgaug 0.2.9 which is incompatible.\u001b[0m\n",
            "Successfully installed anytree-2.8.0 casadi-3.5.5 imageio-2.19.0 latexcodec-2.0.1 pillow-9.1.0 pybamm-22.3 pybtex-0.24.0 scikit-fem-6.0.0 sympy-1.9\n"
          ]
        },
        {
          "output_type": "display_data",
          "data": {
            "application/vnd.colab-display-data+json": {
              "pip_warning": {
                "packages": [
                  "PIL"
                ]
              }
            }
          },
          "metadata": {}
        }
      ],
      "source": [
        "%pip install numpy\n",
        "%pip install scipy\n",
        "%pip install matplotlib\n",
        "%pip install pybamm"
      ]
    },
    {
      "cell_type": "code",
      "source": [
        "import pybamm\n",
        "import matplotlib.pyplot as plt\n",
        "import numpy as np"
      ],
      "metadata": {
        "id": "UOiphlhVk5CN"
      },
      "execution_count": 18,
      "outputs": []
    },
    {
      "cell_type": "markdown",
      "source": [
        "Model set up"
      ],
      "metadata": {
        "id": "VY5MacmLr0CR"
      }
    },
    {
      "cell_type": "code",
      "source": [
        "# set the model type\n",
        "model = pybamm.lithium_ion.NewmanTobias()\n",
        "\n",
        "# set the default model geometry\n",
        "geometry = model.default_geometry\n",
        "\n",
        "# set the default model parameters\n",
        "param = model.default_parameter_values\n",
        "\n",
        "# set the parameters for the model and the geometry\n",
        "param.process_model(model)\n",
        "param.process_geometry(geometry)\n",
        "\n",
        "# mesh the domains\n",
        "mesh = pybamm.Mesh(geometry, model.default_submesh_types, model.default_var_pts)\n",
        "\n",
        "# discretise the model equations\n",
        "disc = pybamm.Discretisation(mesh, model.default_spatial_methods)\n",
        "disc.process_model(model)"
      ],
      "metadata": {
        "id": "o9pgE6UAr3ED",
        "outputId": "f37fcf4e-a4b0-4c8a-ca4a-ca1e05b1e9ab",
        "colab": {
          "base_uri": "https://localhost:8080/"
        }
      },
      "execution_count": 13,
      "outputs": [
        {
          "output_type": "execute_result",
          "data": {
            "text/plain": [
              "<pybamm.models.full_battery_models.lithium_ion.newman_tobias.NewmanTobias at 0x7fad7b1c9250>"
            ]
          },
          "metadata": {},
          "execution_count": 13
        }
      ]
    },
    {
      "cell_type": "markdown",
      "source": [
        "Uncomment the following plot to show all the model paramenters"
      ],
      "metadata": {
        "id": "1oMx3UxNtfQV"
      }
    },
    {
      "cell_type": "code",
      "source": [
        "# format_str = '{:<75}  {:>20}'\n",
        "# print(format_str.format('PARAMETER', 'VALUE'))\n",
        "# print(\"-\"*97)\n",
        "# for key, value in model.default_parameter_values.items():\n",
        "#     try:\n",
        "#         print(format_str.format(key, value))\n",
        "#     except TypeError:\n",
        "#         print(format_str.format(key, value.__str__()))"
      ],
      "metadata": {
        "id": "45_I8eOaol40"
      },
      "execution_count": 15,
      "outputs": []
    },
    {
      "cell_type": "markdown",
      "source": [
        "Let's chage the nominal capacity"
      ],
      "metadata": {
        "id": "TubiqIUwtmj5"
      }
    },
    {
      "cell_type": "code",
      "source": [
        "NOMINAL_Q = 1.0 # [Ah]\n",
        "param['Nominal cell capacity [A.h]'] = NOMINAL_Q  \n",
        "param['Current function [A]'] = NOMINAL_Q / 1.  # [A]"
      ],
      "metadata": {
        "id": "P2_5JfuTtrOA"
      },
      "execution_count": 20,
      "outputs": []
    },
    {
      "cell_type": "markdown",
      "source": [
        "Now lets discharge the battery per 1h\n",
        "\n"
      ],
      "metadata": {
        "id": "Y_ZswmkOuK35"
      }
    },
    {
      "cell_type": "code",
      "source": [
        "# Lets use the default solver to compute the discharge curve\n",
        "solver = model.default_solver\n",
        "n = 361 # how many point to evaluate\n",
        "t_eval = np.linspace(0, 3600, n) # [s]\n",
        "solution = solver.solve(model, t_eval)"
      ],
      "metadata": {
        "id": "nPtKyAYvuUH1"
      },
      "execution_count": 21,
      "outputs": []
    },
    {
      "cell_type": "code",
      "source": [
        "solution.plot()"
      ],
      "metadata": {
        "id": "7FW00oc2vPbr",
        "outputId": "7e6513dc-6ecd-4dc7-9074-ad6e3315d2f9",
        "colab": {
          "base_uri": "https://localhost:8080/",
          "height": 563,
          "referenced_widgets": [
            "41e26456457b4100805f35e0e1614c42",
            "fe3f14d30f3941508f61a201c0335856",
            "67fc3e6d9fe94cb7a5e657788ec1b7a2",
            "08b8ca23b51e47458049b87450d027d8",
            "aaf0c536310246759600072f9732cc25",
            "a2693be50ec14260bf6d6bf98410ee3e",
            "2b0e5f240e2f4879a103abbb75cf963a"
          ]
        }
      },
      "execution_count": 23,
      "outputs": [
        {
          "output_type": "display_data",
          "data": {
            "text/plain": [
              "interactive(children=(FloatSlider(value=0.0, description='t', max=1.0, step=0.01), Output()), _dom_classes=('w…"
            ],
            "application/vnd.jupyter.widget-view+json": {
              "version_major": 2,
              "version_minor": 0,
              "model_id": "41e26456457b4100805f35e0e1614c42"
            }
          },
          "metadata": {}
        },
        {
          "output_type": "execute_result",
          "data": {
            "text/plain": [
              "<pybamm.plotting.quick_plot.QuickPlot at 0x7fad7af1bed0>"
            ]
          },
          "metadata": {},
          "execution_count": 23
        }
      ]
    },
    {
      "cell_type": "code",
      "source": [
        "with plt.style.context(\"seaborn\"):\n",
        "    sim_dfn.plot()"
      ],
      "metadata": {
        "id": "nRr-mZ-llfGW",
        "outputId": "858e1ae0-529b-4d9b-97c1-2176f22039c2",
        "colab": {
          "base_uri": "https://localhost:8080/",
          "height": 545,
          "referenced_widgets": [
            "1449da9df1424cad8f63a9f873d6186f",
            "073e828895804320a34126c7007a8939",
            "b242baacb4c8408e8124ad08159d2fde",
            "5fdc406821514b1891afc4e10c1fe3b8",
            "9005a1beb68d47f298499374a96e1e5f",
            "47cb52c720ab4cfbb0660687f13456ef",
            "8d1f532488b94461817b3d1723343d97"
          ]
        }
      },
      "execution_count": 7,
      "outputs": [
        {
          "output_type": "display_data",
          "data": {
            "text/plain": [
              "interactive(children=(FloatSlider(value=0.0, description='t', max=1.0, step=0.01), Output()), _dom_classes=('w…"
            ],
            "application/vnd.jupyter.widget-view+json": {
              "version_major": 2,
              "version_minor": 0,
              "model_id": "1449da9df1424cad8f63a9f873d6186f"
            }
          },
          "metadata": {}
        }
      ]
    },
    {
      "cell_type": "code",
      "source": [
        "fig.savefig(\"test.png\")"
      ],
      "metadata": {
        "id": "od11MBSElmPg"
      },
      "execution_count": 6,
      "outputs": []
    },
    {
      "cell_type": "code",
      "source": [
        ""
      ],
      "metadata": {
        "id": "ijYIKJmhlwR6"
      },
      "execution_count": null,
      "outputs": []
    }
  ],
  "metadata": {
    "language_info": {
      "name": "python"
    },
    "orig_nbformat": 4,
    "colab": {
      "name": "2-Hands-on_LIB_modelling.ipynb",
      "provenance": []
    },
    "kernelspec": {
      "name": "python3",
      "display_name": "Python 3"
    },
    "accelerator": "TPU",
    "widgets": {
      "application/vnd.jupyter.widget-state+json": {
        "41e26456457b4100805f35e0e1614c42": {
          "model_module": "@jupyter-widgets/controls",
          "model_name": "VBoxModel",
          "model_module_version": "1.5.0",
          "state": {
            "_dom_classes": [
              "widget-interact"
            ],
            "_model_module": "@jupyter-widgets/controls",
            "_model_module_version": "1.5.0",
            "_model_name": "VBoxModel",
            "_view_count": null,
            "_view_module": "@jupyter-widgets/controls",
            "_view_module_version": "1.5.0",
            "_view_name": "VBoxView",
            "box_style": "",
            "children": [
              "IPY_MODEL_fe3f14d30f3941508f61a201c0335856",
              "IPY_MODEL_67fc3e6d9fe94cb7a5e657788ec1b7a2"
            ],
            "layout": "IPY_MODEL_08b8ca23b51e47458049b87450d027d8"
          }
        },
        "fe3f14d30f3941508f61a201c0335856": {
          "model_module": "@jupyter-widgets/controls",
          "model_name": "FloatSliderModel",
          "model_module_version": "1.5.0",
          "state": {
            "_dom_classes": [],
            "_model_module": "@jupyter-widgets/controls",
            "_model_module_version": "1.5.0",
            "_model_name": "FloatSliderModel",
            "_view_count": null,
            "_view_module": "@jupyter-widgets/controls",
            "_view_module_version": "1.5.0",
            "_view_name": "FloatSliderView",
            "continuous_update": true,
            "description": "t",
            "description_tooltip": null,
            "disabled": false,
            "layout": "IPY_MODEL_aaf0c536310246759600072f9732cc25",
            "max": 1,
            "min": 0,
            "orientation": "horizontal",
            "readout": true,
            "readout_format": ".2f",
            "step": 0.01,
            "style": "IPY_MODEL_a2693be50ec14260bf6d6bf98410ee3e",
            "value": 1
          }
        },
        "67fc3e6d9fe94cb7a5e657788ec1b7a2": {
          "model_module": "@jupyter-widgets/output",
          "model_name": "OutputModel",
          "model_module_version": "1.0.0",
          "state": {
            "_dom_classes": [],
            "_model_module": "@jupyter-widgets/output",
            "_model_module_version": "1.0.0",
            "_model_name": "OutputModel",
            "_view_count": null,
            "_view_module": "@jupyter-widgets/output",
            "_view_module_version": "1.0.0",
            "_view_name": "OutputView",
            "layout": "IPY_MODEL_2b0e5f240e2f4879a103abbb75cf963a",
            "msg_id": "",
            "outputs": [
              {
                "output_type": "display_data",
                "data": {
                  "text/plain": "<Figure size 1080x504 with 8 Axes>",
                  "image/png": "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\n"
                },
                "metadata": {
                  "needs_background": "light"
                }
              }
            ]
          }
        },
        "08b8ca23b51e47458049b87450d027d8": {
          "model_module": "@jupyter-widgets/base",
          "model_name": "LayoutModel",
          "model_module_version": "1.2.0",
          "state": {
            "_model_module": "@jupyter-widgets/base",
            "_model_module_version": "1.2.0",
            "_model_name": "LayoutModel",
            "_view_count": null,
            "_view_module": "@jupyter-widgets/base",
            "_view_module_version": "1.2.0",
            "_view_name": "LayoutView",
            "align_content": null,
            "align_items": null,
            "align_self": null,
            "border": null,
            "bottom": null,
            "display": null,
            "flex": null,
            "flex_flow": null,
            "grid_area": null,
            "grid_auto_columns": null,
            "grid_auto_flow": null,
            "grid_auto_rows": null,
            "grid_column": null,
            "grid_gap": null,
            "grid_row": null,
            "grid_template_areas": null,
            "grid_template_columns": null,
            "grid_template_rows": null,
            "height": null,
            "justify_content": null,
            "justify_items": null,
            "left": null,
            "margin": null,
            "max_height": null,
            "max_width": null,
            "min_height": null,
            "min_width": null,
            "object_fit": null,
            "object_position": null,
            "order": null,
            "overflow": null,
            "overflow_x": null,
            "overflow_y": null,
            "padding": null,
            "right": null,
            "top": null,
            "visibility": null,
            "width": null
          }
        },
        "aaf0c536310246759600072f9732cc25": {
          "model_module": "@jupyter-widgets/base",
          "model_name": "LayoutModel",
          "model_module_version": "1.2.0",
          "state": {
            "_model_module": "@jupyter-widgets/base",
            "_model_module_version": "1.2.0",
            "_model_name": "LayoutModel",
            "_view_count": null,
            "_view_module": "@jupyter-widgets/base",
            "_view_module_version": "1.2.0",
            "_view_name": "LayoutView",
            "align_content": null,
            "align_items": null,
            "align_self": null,
            "border": null,
            "bottom": null,
            "display": null,
            "flex": null,
            "flex_flow": null,
            "grid_area": null,
            "grid_auto_columns": null,
            "grid_auto_flow": null,
            "grid_auto_rows": null,
            "grid_column": null,
            "grid_gap": null,
            "grid_row": null,
            "grid_template_areas": null,
            "grid_template_columns": null,
            "grid_template_rows": null,
            "height": null,
            "justify_content": null,
            "justify_items": null,
            "left": null,
            "margin": null,
            "max_height": null,
            "max_width": null,
            "min_height": null,
            "min_width": null,
            "object_fit": null,
            "object_position": null,
            "order": null,
            "overflow": null,
            "overflow_x": null,
            "overflow_y": null,
            "padding": null,
            "right": null,
            "top": null,
            "visibility": null,
            "width": null
          }
        },
        "a2693be50ec14260bf6d6bf98410ee3e": {
          "model_module": "@jupyter-widgets/controls",
          "model_name": "SliderStyleModel",
          "model_module_version": "1.5.0",
          "state": {
            "_model_module": "@jupyter-widgets/controls",
            "_model_module_version": "1.5.0",
            "_model_name": "SliderStyleModel",
            "_view_count": null,
            "_view_module": "@jupyter-widgets/base",
            "_view_module_version": "1.2.0",
            "_view_name": "StyleView",
            "description_width": "",
            "handle_color": null
          }
        },
        "2b0e5f240e2f4879a103abbb75cf963a": {
          "model_module": "@jupyter-widgets/base",
          "model_name": "LayoutModel",
          "model_module_version": "1.2.0",
          "state": {
            "_model_module": "@jupyter-widgets/base",
            "_model_module_version": "1.2.0",
            "_model_name": "LayoutModel",
            "_view_count": null,
            "_view_module": "@jupyter-widgets/base",
            "_view_module_version": "1.2.0",
            "_view_name": "LayoutView",
            "align_content": null,
            "align_items": null,
            "align_self": null,
            "border": null,
            "bottom": null,
            "display": null,
            "flex": null,
            "flex_flow": null,
            "grid_area": null,
            "grid_auto_columns": null,
            "grid_auto_flow": null,
            "grid_auto_rows": null,
            "grid_column": null,
            "grid_gap": null,
            "grid_row": null,
            "grid_template_areas": null,
            "grid_template_columns": null,
            "grid_template_rows": null,
            "height": null,
            "justify_content": null,
            "justify_items": null,
            "left": null,
            "margin": null,
            "max_height": null,
            "max_width": null,
            "min_height": null,
            "min_width": null,
            "object_fit": null,
            "object_position": null,
            "order": null,
            "overflow": null,
            "overflow_x": null,
            "overflow_y": null,
            "padding": null,
            "right": null,
            "top": null,
            "visibility": null,
            "width": null
          }
        },
        "1449da9df1424cad8f63a9f873d6186f": {
          "model_module": "@jupyter-widgets/controls",
          "model_name": "VBoxModel",
          "model_module_version": "1.5.0",
          "state": {
            "_dom_classes": [
              "widget-interact"
            ],
            "_model_module": "@jupyter-widgets/controls",
            "_model_module_version": "1.5.0",
            "_model_name": "VBoxModel",
            "_view_count": null,
            "_view_module": "@jupyter-widgets/controls",
            "_view_module_version": "1.5.0",
            "_view_name": "VBoxView",
            "box_style": "",
            "children": [
              "IPY_MODEL_073e828895804320a34126c7007a8939",
              "IPY_MODEL_b242baacb4c8408e8124ad08159d2fde"
            ],
            "layout": "IPY_MODEL_5fdc406821514b1891afc4e10c1fe3b8"
          }
        },
        "073e828895804320a34126c7007a8939": {
          "model_module": "@jupyter-widgets/controls",
          "model_name": "FloatSliderModel",
          "model_module_version": "1.5.0",
          "state": {
            "_dom_classes": [],
            "_model_module": "@jupyter-widgets/controls",
            "_model_module_version": "1.5.0",
            "_model_name": "FloatSliderModel",
            "_view_count": null,
            "_view_module": "@jupyter-widgets/controls",
            "_view_module_version": "1.5.0",
            "_view_name": "FloatSliderView",
            "continuous_update": true,
            "description": "t",
            "description_tooltip": null,
            "disabled": false,
            "layout": "IPY_MODEL_9005a1beb68d47f298499374a96e1e5f",
            "max": 1,
            "min": 0,
            "orientation": "horizontal",
            "readout": true,
            "readout_format": ".2f",
            "step": 0.01,
            "style": "IPY_MODEL_47cb52c720ab4cfbb0660687f13456ef",
            "value": 0
          }
        },
        "b242baacb4c8408e8124ad08159d2fde": {
          "model_module": "@jupyter-widgets/output",
          "model_name": "OutputModel",
          "model_module_version": "1.0.0",
          "state": {
            "_dom_classes": [],
            "_model_module": "@jupyter-widgets/output",
            "_model_module_version": "1.0.0",
            "_model_name": "OutputModel",
            "_view_count": null,
            "_view_module": "@jupyter-widgets/output",
            "_view_module_version": "1.0.0",
            "_view_name": "OutputView",
            "layout": "IPY_MODEL_8d1f532488b94461817b3d1723343d97",
            "msg_id": "",
            "outputs": [
              {
                "output_type": "display_data",
                "data": {
                  "text/plain": "<Figure size 1080x504 with 8 Axes>",
                  "image/png": "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\n"
                },
                "metadata": {
                  "needs_background": "light"
                }
              }
            ]
          }
        },
        "5fdc406821514b1891afc4e10c1fe3b8": {
          "model_module": "@jupyter-widgets/base",
          "model_name": "LayoutModel",
          "model_module_version": "1.2.0",
          "state": {
            "_model_module": "@jupyter-widgets/base",
            "_model_module_version": "1.2.0",
            "_model_name": "LayoutModel",
            "_view_count": null,
            "_view_module": "@jupyter-widgets/base",
            "_view_module_version": "1.2.0",
            "_view_name": "LayoutView",
            "align_content": null,
            "align_items": null,
            "align_self": null,
            "border": null,
            "bottom": null,
            "display": null,
            "flex": null,
            "flex_flow": null,
            "grid_area": null,
            "grid_auto_columns": null,
            "grid_auto_flow": null,
            "grid_auto_rows": null,
            "grid_column": null,
            "grid_gap": null,
            "grid_row": null,
            "grid_template_areas": null,
            "grid_template_columns": null,
            "grid_template_rows": null,
            "height": null,
            "justify_content": null,
            "justify_items": null,
            "left": null,
            "margin": null,
            "max_height": null,
            "max_width": null,
            "min_height": null,
            "min_width": null,
            "object_fit": null,
            "object_position": null,
            "order": null,
            "overflow": null,
            "overflow_x": null,
            "overflow_y": null,
            "padding": null,
            "right": null,
            "top": null,
            "visibility": null,
            "width": null
          }
        },
        "9005a1beb68d47f298499374a96e1e5f": {
          "model_module": "@jupyter-widgets/base",
          "model_name": "LayoutModel",
          "model_module_version": "1.2.0",
          "state": {
            "_model_module": "@jupyter-widgets/base",
            "_model_module_version": "1.2.0",
            "_model_name": "LayoutModel",
            "_view_count": null,
            "_view_module": "@jupyter-widgets/base",
            "_view_module_version": "1.2.0",
            "_view_name": "LayoutView",
            "align_content": null,
            "align_items": null,
            "align_self": null,
            "border": null,
            "bottom": null,
            "display": null,
            "flex": null,
            "flex_flow": null,
            "grid_area": null,
            "grid_auto_columns": null,
            "grid_auto_flow": null,
            "grid_auto_rows": null,
            "grid_column": null,
            "grid_gap": null,
            "grid_row": null,
            "grid_template_areas": null,
            "grid_template_columns": null,
            "grid_template_rows": null,
            "height": null,
            "justify_content": null,
            "justify_items": null,
            "left": null,
            "margin": null,
            "max_height": null,
            "max_width": null,
            "min_height": null,
            "min_width": null,
            "object_fit": null,
            "object_position": null,
            "order": null,
            "overflow": null,
            "overflow_x": null,
            "overflow_y": null,
            "padding": null,
            "right": null,
            "top": null,
            "visibility": null,
            "width": null
          }
        },
        "47cb52c720ab4cfbb0660687f13456ef": {
          "model_module": "@jupyter-widgets/controls",
          "model_name": "SliderStyleModel",
          "model_module_version": "1.5.0",
          "state": {
            "_model_module": "@jupyter-widgets/controls",
            "_model_module_version": "1.5.0",
            "_model_name": "SliderStyleModel",
            "_view_count": null,
            "_view_module": "@jupyter-widgets/base",
            "_view_module_version": "1.2.0",
            "_view_name": "StyleView",
            "description_width": "",
            "handle_color": null
          }
        },
        "8d1f532488b94461817b3d1723343d97": {
          "model_module": "@jupyter-widgets/base",
          "model_name": "LayoutModel",
          "model_module_version": "1.2.0",
          "state": {
            "_model_module": "@jupyter-widgets/base",
            "_model_module_version": "1.2.0",
            "_model_name": "LayoutModel",
            "_view_count": null,
            "_view_module": "@jupyter-widgets/base",
            "_view_module_version": "1.2.0",
            "_view_name": "LayoutView",
            "align_content": null,
            "align_items": null,
            "align_self": null,
            "border": null,
            "bottom": null,
            "display": null,
            "flex": null,
            "flex_flow": null,
            "grid_area": null,
            "grid_auto_columns": null,
            "grid_auto_flow": null,
            "grid_auto_rows": null,
            "grid_column": null,
            "grid_gap": null,
            "grid_row": null,
            "grid_template_areas": null,
            "grid_template_columns": null,
            "grid_template_rows": null,
            "height": null,
            "justify_content": null,
            "justify_items": null,
            "left": null,
            "margin": null,
            "max_height": null,
            "max_width": null,
            "min_height": null,
            "min_width": null,
            "object_fit": null,
            "object_position": null,
            "order": null,
            "overflow": null,
            "overflow_x": null,
            "overflow_y": null,
            "padding": null,
            "right": null,
            "top": null,
            "visibility": null,
            "width": null
          }
        }
      }
    }
  },
  "nbformat": 4,
  "nbformat_minor": 0
}